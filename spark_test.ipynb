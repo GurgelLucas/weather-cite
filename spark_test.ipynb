{
  "cells": [
    {
      "cell_type": "markdown",
      "metadata": {
        "id": "view-in-github",
        "colab_type": "text"
      },
      "source": [
        "<a href=\"https://colab.research.google.com/github/GurgelLucas/weather-cite/blob/main/spark_test.ipynb\" target=\"_parent\"><img src=\"https://colab.research.google.com/assets/colab-badge.svg\" alt=\"Open In Colab\"/></a>"
      ]
    },
    {
      "cell_type": "markdown",
      "id": "580dd39c-f066-4c32-af47-648eb71f5918",
      "metadata": {
        "tags": [],
        "id": "580dd39c-f066-4c32-af47-648eb71f5918"
      },
      "source": [
        "# Desafio: Consumo de Dados para Previsão do Tempo das Cidades do Vale do Paraíba.\n",
        "\n",
        "## Objetivo\n",
        "\n",
        "Avaliar conhecimentos nas linguagens Python e SQL e na engine de processamento Apache Spark.\n",
        "\n",
        "## Descrição\n",
        "\n",
        "Neste desafio, você desenvolverá um notebook que será responsável por extrair dados de previsão do tempo das cidades do Vale do Paraíba, região onde se localiza a Dataside. Para consultar todas as cidades dessa região, utilizaremos a API do IBGE. No caso, basta realizar uma requisição HTTP com o método GET, utilizando a URL abaixo:\n",
        "\n",
        "```\n",
        "https://servicodados.ibge.gov.br/api/v1/localidades/mesorregioes/3513/municipios\n",
        "```\n",
        "\n",
        "Com esses dados, gerar um data frame e a partir dele uma temp view. Ex: \"cities\"\n",
        "\n",
        "Utilizando os nomes das cidades, deverão ser consultados os dados de previsão de tempo para cada cidade. Para realizar essa consulta, poderá ser utilizada qualquer uma das APIs informadas no link abaixo.\n",
        "\n",
        "[Public APIs - Wather](https://github.com/public-apis/public-apis#weather)\n",
        "\n",
        "Obs.: Para algumas, pode ser necessário cadastrar-se para acessar sua API Key. Mas nenhuma delas deve precisar cadastrar cartão de crédito ou adicionar qualquer valor monetário para utilizar. Caso alguma solicite, basta optar por outra.\n",
        "\n",
        "Com os dados consultados, gerar um data frame e partir dele outra temp view. Ex: \"forecasts\"\n",
        "\n",
        "Com as temp views geradas, utilizar Spark SQL para criar queries e gerar data frames das seguintes tabelas:\n",
        "\n",
        "- Tabela 1: dados de previsão do tempo para os próximos cinco dias, para cada data e cidade consultadas. As colunas dessa tabela serão:\n",
        "    - Cidade\n",
        "    - CodigoDaCidade\n",
        "    - Data\n",
        "    - Regiao\n",
        "    - Pais\n",
        "    - Latitude\n",
        "    - Longigute\n",
        "    - TemperaturaMaxima\n",
        "    - TemperaturaMinima\n",
        "    - TemperaturaMedia\n",
        "    - VaiChover\n",
        "    - ChanceDeChuva\n",
        "    - CondicaoDoTempo\n",
        "    - NascerDoSol\n",
        "    - PorDoSol\n",
        "    - VelocidadeMaximaDoVento\n",
        "    \n",
        "    Obs.: Os valores da coluna \"VaiChover\" deverá ser \"Sim\" ou \"Não\". E a coluna \"CodigoDaCidade\" é o ID retornado junto com os nomes da cidades na API do IBGE.\n",
        "    Obs.: Dependendo da API utilizada, algumas colunas podem não existir e ficarão em branco. Você deve optar por uma API que traga o maior número de informações possível.\n",
        "\n",
        "- Tabela 2: quantidade de dias com chuva e sem chuva para os dias consultados, para cada data consultada. Colunas:\n",
        "    - Cidade\n",
        "    - QtdDiasVaiChover\n",
        "    - QtdDiasNaoVaiChover\n",
        "    - TotalDiasMapeados\n",
        "\n",
        "Essas tabelas deverão ser exportadas em formado CSV e entregue no final do desafio.\n",
        "\n",
        "## To Do\n",
        "\n",
        "[ ] - Consultar municípios do Vale do Paraíba, gerar um data frame e criar uma temp view com esses dados.\n",
        "[ ] - Consultar dados do tempo para cada município, gerar um data frame e criar uma outra temp view.\n",
        "[ ] - Utilizar Spark SQL para gerar os data frames das Tabelas 1 e 2.\n",
        "[ ] - Exportar os data frames para CSV.\n",
        "\n",
        "## Atenção\n",
        "\n",
        "- Existe um limite de requisições de 10000 requests por conta cadastrada na m3o.\n",
        "- Essa API pode retornar cidades de outras regiões que possuem nome semelhante a alguma cidade do Vale do Paraiba. Pode mantê-las ou filtrar para gerar as tabelas apenas com dados de Regiao = Sao Paulo. Fica a seu critério.\n",
        "\n",
        "## Entregando o desafio\n",
        "\n",
        "Concluindo todos os passos informados em To Do, basta salvar o arquivo .ipynb do notebook e enviar para a Dataside juntamente com os CSVs das duas tabelas.\n"
      ]
    },
    {
      "cell_type": "code",
      "source": [
        "# instalar o JAVA\n",
        "!apt-get install openjdk-8-jdk-headless -qq > /dev/null"
      ],
      "metadata": {
        "id": "3FeBVD2MCKUr"
      },
      "id": "3FeBVD2MCKUr",
      "execution_count": null,
      "outputs": []
    },
    {
      "cell_type": "code",
      "source": [
        "# Baixar a versão mais recente do Spark\n",
        "!wget -q https://downloads.apache.org/spark/spark-3.1.2/spark-3.1.2-bin-hadoop2.7.tgz"
      ],
      "metadata": {
        "id": "AGRLK6PDCN1k"
      },
      "id": "AGRLK6PDCN1k",
      "execution_count": null,
      "outputs": []
    },
    {
      "cell_type": "code",
      "source": [
        "# Deszipar o spark\n",
        "!tar xf /content/spark-3.1.2-bin-hadoop2.7.tgz\n",
        "!rm spark-3.1.2-bin-hadoop2.7.tgz"
      ],
      "metadata": {
        "id": "JNPdjZ3CCTFq"
      },
      "id": "JNPdjZ3CCTFq",
      "execution_count": null,
      "outputs": []
    },
    {
      "cell_type": "code",
      "source": [
        "# Declarando as variáveis de ambiente\n",
        "import os\n",
        "os.environ[\"JAVA_HOME\"] = \"/usr/lib/jvm/java-8-openjdk-amd64\"\n",
        "os.environ[\"SPARK_HOME\"] = \"/content/spark-3.1.2-bin-hadoop2.7\""
      ],
      "metadata": {
        "id": "ncnVqaCYBLvy"
      },
      "id": "ncnVqaCYBLvy",
      "execution_count": null,
      "outputs": []
    },
    {
      "cell_type": "code",
      "source": [
        "# Instalar a lib que ajuda e a encontrar o Spark no sistema e importá-lo como uma biblioteca regular\n",
        "!pip install -q findspark unidecode"
      ],
      "metadata": {
        "id": "lrdQv3_qAl8K",
        "colab": {
          "base_uri": "https://localhost:8080/"
        },
        "outputId": "02f74ca9-aa94-448d-c76f-abcb6739f838"
      },
      "id": "lrdQv3_qAl8K",
      "execution_count": null,
      "outputs": [
        {
          "output_type": "stream",
          "name": "stdout",
          "text": [
            "\u001b[?25l\r\u001b[K     |█▍                              | 10 kB 30.4 MB/s eta 0:00:01\r\u001b[K     |██▉                             | 20 kB 39.5 MB/s eta 0:00:01\r\u001b[K     |████▏                           | 30 kB 40.3 MB/s eta 0:00:01\r\u001b[K     |█████▋                          | 40 kB 12.8 MB/s eta 0:00:01\r\u001b[K     |███████                         | 51 kB 12.8 MB/s eta 0:00:01\r\u001b[K     |████████▍                       | 61 kB 14.6 MB/s eta 0:00:01\r\u001b[K     |█████████▊                      | 71 kB 12.3 MB/s eta 0:00:01\r\u001b[K     |███████████▏                    | 81 kB 13.7 MB/s eta 0:00:01\r\u001b[K     |████████████▌                   | 92 kB 15.2 MB/s eta 0:00:01\r\u001b[K     |██████████████                  | 102 kB 13.7 MB/s eta 0:00:01\r\u001b[K     |███████████████▎                | 112 kB 13.7 MB/s eta 0:00:01\r\u001b[K     |████████████████▊               | 122 kB 13.7 MB/s eta 0:00:01\r\u001b[K     |██████████████████              | 133 kB 13.7 MB/s eta 0:00:01\r\u001b[K     |███████████████████▌            | 143 kB 13.7 MB/s eta 0:00:01\r\u001b[K     |████████████████████▉           | 153 kB 13.7 MB/s eta 0:00:01\r\u001b[K     |██████████████████████▎         | 163 kB 13.7 MB/s eta 0:00:01\r\u001b[K     |███████████████████████▋        | 174 kB 13.7 MB/s eta 0:00:01\r\u001b[K     |█████████████████████████       | 184 kB 13.7 MB/s eta 0:00:01\r\u001b[K     |██████████████████████████▍     | 194 kB 13.7 MB/s eta 0:00:01\r\u001b[K     |███████████████████████████▉    | 204 kB 13.7 MB/s eta 0:00:01\r\u001b[K     |█████████████████████████████▏  | 215 kB 13.7 MB/s eta 0:00:01\r\u001b[K     |██████████████████████████████▋ | 225 kB 13.7 MB/s eta 0:00:01\r\u001b[K     |████████████████████████████████| 235 kB 13.7 MB/s eta 0:00:01\r\u001b[K     |████████████████████████████████| 235 kB 13.7 MB/s \n",
            "\u001b[?25h"
          ]
        }
      ]
    },
    {
      "cell_type": "code",
      "execution_count": null,
      "id": "a1cb6c40-3073-43b0-b7f4-95e7c9dd8245",
      "metadata": {
        "tags": [],
        "id": "a1cb6c40-3073-43b0-b7f4-95e7c9dd8245"
      },
      "outputs": [],
      "source": [
        "import findspark\n",
        "findspark.init()\n",
        "\n",
        "import urllib.parse\n",
        "import requests\n",
        "import json\n",
        "import unidecode\n",
        "from pyspark.sql import SparkSession\n",
        "from pyspark.sql.types import *\n",
        "from pyspark.sql.functions import from_json, col, explode_outer\n",
        "\n",
        "spark = SparkSession.builder \\\n",
        "      .master(\"local[1]\") \\\n",
        "      .appName(\"SparkByExamples.com\") \\\n",
        "      .getOrCreate()"
      ]
    },
    {
      "cell_type": "code",
      "execution_count": 190,
      "id": "cdc739f4-2ebf-4ff2-91ff-89689510e618",
      "metadata": {
        "tags": [],
        "id": "cdc739f4-2ebf-4ff2-91ff-89689510e618",
        "colab": {
          "base_uri": "https://localhost:8080/"
        },
        "outputId": "89928c64-3007-4b4f-d2f4-54eb18a2f611"
      },
      "outputs": [
        {
          "output_type": "stream",
          "name": "stdout",
          "text": [
            "root\n",
            " |-- id: string (nullable = true)\n",
            " |-- microrregiao: struct (nullable = true)\n",
            " |    |-- id: long (nullable = true)\n",
            " |    |-- mesorregiao: struct (nullable = true)\n",
            " |    |    |-- UF: struct (nullable = true)\n",
            " |    |    |    |-- id: long (nullable = true)\n",
            " |    |    |    |-- nome: string (nullable = true)\n",
            " |    |    |    |-- regiao: struct (nullable = true)\n",
            " |    |    |    |    |-- id: long (nullable = true)\n",
            " |    |    |    |    |-- nome: string (nullable = true)\n",
            " |    |    |    |    |-- sigla: string (nullable = true)\n",
            " |    |    |    |-- sigla: string (nullable = true)\n",
            " |    |    |-- id: long (nullable = true)\n",
            " |    |    |-- nome: string (nullable = true)\n",
            " |    |-- nome: string (nullable = true)\n",
            " |-- nome: string (nullable = true)\n",
            " |-- regiao-imediata: struct (nullable = true)\n",
            " |    |-- id: long (nullable = true)\n",
            " |    |-- nome: string (nullable = true)\n",
            " |    |-- regiao-intermediaria: struct (nullable = true)\n",
            " |    |    |-- UF: struct (nullable = true)\n",
            " |    |    |    |-- id: long (nullable = true)\n",
            " |    |    |    |-- nome: string (nullable = true)\n",
            " |    |    |    |-- regiao: struct (nullable = true)\n",
            " |    |    |    |    |-- id: long (nullable = true)\n",
            " |    |    |    |    |-- nome: string (nullable = true)\n",
            " |    |    |    |    |-- sigla: string (nullable = true)\n",
            " |    |    |    |-- sigla: string (nullable = true)\n",
            " |    |    |-- id: long (nullable = true)\n",
            " |    |    |-- nome: string (nullable = true)\n",
            "\n"
          ]
        }
      ],
      "source": [
        "# Buscar cidades do Vale do Paraíba\n",
        "# TODO\n",
        "\n",
        "req = requests.get(\"https://servicodados.ibge.gov.br/api/v1/localidades/mesorregioes/3513/municipios\")\n",
        "data = req.json()\n",
        "\n",
        "# Criar data frame com as cidades\n",
        "# TODO\n",
        "\n",
        "#cities = spark.createDataFrame(data)\n",
        "cities = spark.read.json(spark.sparkContext.parallelize([data]))\n",
        "cities.printSchema()\n",
        "\n",
        "\n",
        "\n",
        "# Criar view com as cidades\n",
        "# TODO\n",
        "vw_cities = cities.createOrReplaceTempView(\"cities\")\n",
        "#spark.sql(\"SELECT microrregiao FROM cities\").show()"
      ]
    },
    {
      "cell_type": "code",
      "source": [
        "# Melhoria e automatização de etapas \n",
        "# Pegar colunas que são structs \n",
        "def get_struct_columns(dataframe):\n",
        "  columns_struct = []\n",
        "  for x in cities.dtypes:\n",
        "    if 'struct' in x[1]:\n",
        "      columns_struct.append(x[0])\n",
        "  return columns_struct"
      ],
      "metadata": {
        "id": "M--3uuGN6iMq"
      },
      "id": "M--3uuGN6iMq",
      "execution_count": 189,
      "outputs": []
    },
    {
      "cell_type": "code",
      "source": [
        "for struct in get_struct_columns(cities):\n",
        "  for i in cities.schema[struct].dataType.names:\n",
        "    cities = cities.select(\"*\", col(f\"{struct}.{i}\").alias(f\"{struct}_{i}\"))\n",
        "  cities = cities.drop(col(struct))"
      ],
      "metadata": {
        "id": "yUTWOqLTU0hF"
      },
      "id": "yUTWOqLTU0hF",
      "execution_count": 197,
      "outputs": []
    },
    {
      "cell_type": "code",
      "source": [
        "cities.printSchema()"
      ],
      "metadata": {
        "id": "xmV6G6Vt2Ic6",
        "outputId": "74e0d43c-7b74-420c-d9ea-509eca13fca1",
        "colab": {
          "base_uri": "https://localhost:8080/"
        }
      },
      "id": "xmV6G6Vt2Ic6",
      "execution_count": 198,
      "outputs": [
        {
          "output_type": "stream",
          "name": "stdout",
          "text": [
            "root\n",
            " |-- id: string (nullable = true)\n",
            " |-- nome: string (nullable = true)\n",
            " |-- microrregiao_id: long (nullable = true)\n",
            " |-- microrregiao_nome: string (nullable = true)\n",
            " |-- regiao-imediata_id: long (nullable = true)\n",
            " |-- regiao-imediata_nome: string (nullable = true)\n",
            " |-- microrregiao_mesorregiao_id: long (nullable = true)\n",
            " |-- microrregiao_mesorregiao_nome: string (nullable = true)\n",
            " |-- regiao-imediata_regiao-intermediaria_id: long (nullable = true)\n",
            " |-- regiao-imediata_regiao-intermediaria_nome: string (nullable = true)\n",
            " |-- microrregiao_mesorregiao_UF_id: long (nullable = true)\n",
            " |-- microrregiao_mesorregiao_UF_nome: string (nullable = true)\n",
            " |-- microrregiao_mesorregiao_UF_sigla: string (nullable = true)\n",
            " |-- regiao-imediata_regiao-intermediaria_UF_id: long (nullable = true)\n",
            " |-- regiao-imediata_regiao-intermediaria_UF_nome: string (nullable = true)\n",
            " |-- regiao-imediata_regiao-intermediaria_UF_sigla: string (nullable = true)\n",
            " |-- microrregiao_mesorregiao_UF_regiao_id: long (nullable = true)\n",
            " |-- microrregiao_mesorregiao_UF_regiao_nome: string (nullable = true)\n",
            " |-- microrregiao_mesorregiao_UF_regiao_sigla: string (nullable = true)\n",
            " |-- regiao-imediata_regiao-intermediaria_UF_regiao_id: long (nullable = true)\n",
            " |-- regiao-imediata_regiao-intermediaria_UF_regiao_nome: string (nullable = true)\n",
            " |-- regiao-imediata_regiao-intermediaria_UF_regiao_sigla: string (nullable = true)\n",
            "\n"
          ]
        }
      ]
    },
    {
      "cell_type": "code",
      "execution_count": null,
      "id": "c4a40a6f-d5f1-4524-9d0b-d1e6e24dfbfa",
      "metadata": {
        "tags": [],
        "id": "c4a40a6f-d5f1-4524-9d0b-d1e6e24dfbfa",
        "colab": {
          "base_uri": "https://localhost:8080/"
        },
        "outputId": "dcf408a4-6d06-4fd3-b625-475c6dcb7c4b"
      },
      "outputs": [
        {
          "output_type": "stream",
          "name": "stdout",
          "text": [
            "root\n",
            " |-- current: struct (nullable = true)\n",
            " |    |-- cloud: long (nullable = true)\n",
            " |    |-- condition: struct (nullable = true)\n",
            " |    |    |-- code: long (nullable = true)\n",
            " |    |    |-- icon: string (nullable = true)\n",
            " |    |    |-- text: string (nullable = true)\n",
            " |    |-- feelslike_c: double (nullable = true)\n",
            " |    |-- feelslike_f: double (nullable = true)\n",
            " |    |-- gust_kph: double (nullable = true)\n",
            " |    |-- gust_mph: double (nullable = true)\n",
            " |    |-- humidity: long (nullable = true)\n",
            " |    |-- is_day: long (nullable = true)\n",
            " |    |-- last_updated: string (nullable = true)\n",
            " |    |-- last_updated_epoch: long (nullable = true)\n",
            " |    |-- precip_in: double (nullable = true)\n",
            " |    |-- precip_mm: double (nullable = true)\n",
            " |    |-- pressure_in: double (nullable = true)\n",
            " |    |-- pressure_mb: double (nullable = true)\n",
            " |    |-- temp_c: double (nullable = true)\n",
            " |    |-- temp_f: double (nullable = true)\n",
            " |    |-- uv: double (nullable = true)\n",
            " |    |-- vis_km: double (nullable = true)\n",
            " |    |-- vis_miles: double (nullable = true)\n",
            " |    |-- wind_degree: long (nullable = true)\n",
            " |    |-- wind_dir: string (nullable = true)\n",
            " |    |-- wind_kph: double (nullable = true)\n",
            " |    |-- wind_mph: double (nullable = true)\n",
            " |-- error: struct (nullable = true)\n",
            " |    |-- code: long (nullable = true)\n",
            " |    |-- message: string (nullable = true)\n",
            " |-- forecast: struct (nullable = true)\n",
            " |    |-- forecastday: array (nullable = true)\n",
            " |    |    |-- element: struct (containsNull = true)\n",
            " |    |    |    |-- astro: struct (nullable = true)\n",
            " |    |    |    |    |-- moon_illumination: string (nullable = true)\n",
            " |    |    |    |    |-- moon_phase: string (nullable = true)\n",
            " |    |    |    |    |-- moonrise: string (nullable = true)\n",
            " |    |    |    |    |-- moonset: string (nullable = true)\n",
            " |    |    |    |    |-- sunrise: string (nullable = true)\n",
            " |    |    |    |    |-- sunset: string (nullable = true)\n",
            " |    |    |    |-- date: string (nullable = true)\n",
            " |    |    |    |-- date_epoch: long (nullable = true)\n",
            " |    |    |    |-- day: struct (nullable = true)\n",
            " |    |    |    |    |-- avghumidity: double (nullable = true)\n",
            " |    |    |    |    |-- avgtemp_c: double (nullable = true)\n",
            " |    |    |    |    |-- avgtemp_f: double (nullable = true)\n",
            " |    |    |    |    |-- avgvis_km: double (nullable = true)\n",
            " |    |    |    |    |-- avgvis_miles: double (nullable = true)\n",
            " |    |    |    |    |-- condition: struct (nullable = true)\n",
            " |    |    |    |    |    |-- code: long (nullable = true)\n",
            " |    |    |    |    |    |-- icon: string (nullable = true)\n",
            " |    |    |    |    |    |-- text: string (nullable = true)\n",
            " |    |    |    |    |-- daily_chance_of_rain: long (nullable = true)\n",
            " |    |    |    |    |-- daily_chance_of_snow: long (nullable = true)\n",
            " |    |    |    |    |-- daily_will_it_rain: long (nullable = true)\n",
            " |    |    |    |    |-- daily_will_it_snow: long (nullable = true)\n",
            " |    |    |    |    |-- maxtemp_c: double (nullable = true)\n",
            " |    |    |    |    |-- maxtemp_f: double (nullable = true)\n",
            " |    |    |    |    |-- maxwind_kph: double (nullable = true)\n",
            " |    |    |    |    |-- maxwind_mph: double (nullable = true)\n",
            " |    |    |    |    |-- mintemp_c: double (nullable = true)\n",
            " |    |    |    |    |-- mintemp_f: double (nullable = true)\n",
            " |    |    |    |    |-- totalprecip_in: double (nullable = true)\n",
            " |    |    |    |    |-- totalprecip_mm: double (nullable = true)\n",
            " |    |    |    |    |-- uv: double (nullable = true)\n",
            " |    |    |    |-- hour: array (nullable = true)\n",
            " |    |    |    |    |-- element: struct (containsNull = true)\n",
            " |    |    |    |    |    |-- chance_of_rain: long (nullable = true)\n",
            " |    |    |    |    |    |-- chance_of_snow: long (nullable = true)\n",
            " |    |    |    |    |    |-- cloud: long (nullable = true)\n",
            " |    |    |    |    |    |-- condition: struct (nullable = true)\n",
            " |    |    |    |    |    |    |-- code: long (nullable = true)\n",
            " |    |    |    |    |    |    |-- icon: string (nullable = true)\n",
            " |    |    |    |    |    |    |-- text: string (nullable = true)\n",
            " |    |    |    |    |    |-- dewpoint_c: double (nullable = true)\n",
            " |    |    |    |    |    |-- dewpoint_f: double (nullable = true)\n",
            " |    |    |    |    |    |-- feelslike_c: double (nullable = true)\n",
            " |    |    |    |    |    |-- feelslike_f: double (nullable = true)\n",
            " |    |    |    |    |    |-- gust_kph: double (nullable = true)\n",
            " |    |    |    |    |    |-- gust_mph: double (nullable = true)\n",
            " |    |    |    |    |    |-- heatindex_c: double (nullable = true)\n",
            " |    |    |    |    |    |-- heatindex_f: double (nullable = true)\n",
            " |    |    |    |    |    |-- humidity: long (nullable = true)\n",
            " |    |    |    |    |    |-- is_day: long (nullable = true)\n",
            " |    |    |    |    |    |-- precip_in: double (nullable = true)\n",
            " |    |    |    |    |    |-- precip_mm: double (nullable = true)\n",
            " |    |    |    |    |    |-- pressure_in: double (nullable = true)\n",
            " |    |    |    |    |    |-- pressure_mb: double (nullable = true)\n",
            " |    |    |    |    |    |-- temp_c: double (nullable = true)\n",
            " |    |    |    |    |    |-- temp_f: double (nullable = true)\n",
            " |    |    |    |    |    |-- time: string (nullable = true)\n",
            " |    |    |    |    |    |-- time_epoch: long (nullable = true)\n",
            " |    |    |    |    |    |-- uv: double (nullable = true)\n",
            " |    |    |    |    |    |-- vis_km: double (nullable = true)\n",
            " |    |    |    |    |    |-- vis_miles: double (nullable = true)\n",
            " |    |    |    |    |    |-- will_it_rain: long (nullable = true)\n",
            " |    |    |    |    |    |-- will_it_snow: long (nullable = true)\n",
            " |    |    |    |    |    |-- wind_degree: long (nullable = true)\n",
            " |    |    |    |    |    |-- wind_dir: string (nullable = true)\n",
            " |    |    |    |    |    |-- wind_kph: double (nullable = true)\n",
            " |    |    |    |    |    |-- wind_mph: double (nullable = true)\n",
            " |    |    |    |    |    |-- windchill_c: double (nullable = true)\n",
            " |    |    |    |    |    |-- windchill_f: double (nullable = true)\n",
            " |-- location: struct (nullable = true)\n",
            " |    |-- country: string (nullable = true)\n",
            " |    |-- lat: double (nullable = true)\n",
            " |    |-- localtime: string (nullable = true)\n",
            " |    |-- localtime_epoch: long (nullable = true)\n",
            " |    |-- lon: double (nullable = true)\n",
            " |    |-- name: string (nullable = true)\n",
            " |    |-- region: string (nullable = true)\n",
            " |    |-- tz_id: string (nullable = true)\n",
            "\n"
          ]
        }
      ],
      "source": [
        "# Buscar previsão do tempo para as cidades\n",
        "# TODO\n",
        "\n",
        "data = []\n",
        "for city in cities.collect():\n",
        "  cidade = urllib.parse.quote(city.nome)\n",
        "  req = requests.get(f\"http://api.weatherapi.com/v1/forecast.json?key=49e9a2605cc34c618b172338220405&q={cidade}&days=5&aqi=no&alerts=no\")\n",
        "  res = req.json()\n",
        "  data.append(res)\n",
        "\n",
        "# Criar data frame com as previsões\n",
        "# TODO\n",
        "weather_forecast = spark.read.json(spark.sparkContext.parallelize(data))\n",
        "weather_forecast = weather_forecast.filter(weather_forecast.location.region == \"Sao Paulo\")\n",
        "#weather_forecast = weather_forecast.select(\"current.*\", \"location.*\", explode_outer(\"forecast.forecastday\") \\\n",
        "#                                    .alias(\"forecastday\")).drop(\"current\", \"forecast\", \"error\", \"location\") \\\n",
        "#                                   .select(\"*\",\"forecastday.*\").drop(\"forecastday\") \\\n",
        "#                                   .select(\"*\",\"day.*\").drop(\"day\")\n",
        "weather_forecast.printSchema()\n",
        "\n",
        "# Criar view com as previsões\n",
        "# TODO\n",
        "vw_weather_forecast = weather_forecast.createOrReplaceTempView(\"weather_forecast\")"
      ]
    },
    {
      "cell_type": "code",
      "source": [
        "weather_forecast.show()"
      ],
      "metadata": {
        "colab": {
          "base_uri": "https://localhost:8080/"
        },
        "id": "gTy65-dvrq0G",
        "outputId": "d9b7f2bf-27fe-460e-c337-b41f3e5737c6"
      },
      "id": "gTy65-dvrq0G",
      "execution_count": null,
      "outputs": [
        {
          "output_type": "stream",
          "name": "stdout",
          "text": [
            "+-----+--------------------+-----------+-----------+--------+--------+--------+------+----------------+------------------+---------+---------+-----------+-----------+------+------+---+------+---------+-----------+--------+--------+--------+-------+------+----------------+---------------+------+------------------+---------+-----------------+--------------------+----------+----------+--------------------+-----------+---------+---------+---------+------------+--------------------+--------------------+--------------------+------------------+------------------+---------+---------+-----------+-----------+---------+---------+--------------+--------------+---+\n",
            "|cloud|           condition|feelslike_c|feelslike_f|gust_kph|gust_mph|humidity|is_day|    last_updated|last_updated_epoch|precip_in|precip_mm|pressure_in|pressure_mb|temp_c|temp_f| uv|vis_km|vis_miles|wind_degree|wind_dir|wind_kph|wind_mph|country|   lat|       localtime|localtime_epoch|   lon|              name|   region|            tz_id|               astro|      date|date_epoch|                hour|avghumidity|avgtemp_c|avgtemp_f|avgvis_km|avgvis_miles|           condition|daily_chance_of_rain|daily_chance_of_snow|daily_will_it_rain|daily_will_it_snow|maxtemp_c|maxtemp_f|maxwind_kph|maxwind_mph|mintemp_c|mintemp_f|totalprecip_in|totalprecip_mm| uv|\n",
            "+-----+--------------------+-----------+-----------+--------+--------+--------+------+----------------+------------------+---------+---------+-----------+-----------+------+------+---+------+---------+-----------+--------+--------+--------+-------+------+----------------+---------------+------+------------------+---------+-----------------+--------------------+----------+----------+--------------------+-----------+---------+---------+---------+------------+--------------------+--------------------+--------------------+------------------+------------------+---------+---------+-----------+-----------+---------+---------+--------------+--------------+---+\n",
            "|   29|{1003, //cdn.weat...|       11.0|       51.8|     9.7|     6.0|      93|     0|2022-05-05 22:00|        1651798800|      0.0|      0.0|      30.15|     1021.0|  11.0|  51.8|1.0|  10.0|      6.0|        256|     WSW|     4.7|     2.9| Brazil|-22.83|2022-05-05 23:18|     1651803517|-45.23|         Aparecida|Sao Paulo|America/Sao_Paulo|{27, Waxing Cresc...|2022-05-05|1651708800|[{0, 0, 62, {1003...|       77.0|     15.0|     58.9|     10.0|         6.0|{1063, //cdn.weat...|                  88|                   0|                 1|                 0|     24.3|     75.7|        9.0|        5.6|      7.0|     44.6|          0.02|           0.4|7.0|\n",
            "|   29|{1003, //cdn.weat...|       11.0|       51.8|     9.7|     6.0|      93|     0|2022-05-05 22:00|        1651798800|      0.0|      0.0|      30.15|     1021.0|  11.0|  51.8|1.0|  10.0|      6.0|        256|     WSW|     4.7|     2.9| Brazil|-22.83|2022-05-05 23:18|     1651803517|-45.23|         Aparecida|Sao Paulo|America/Sao_Paulo|{34, Waxing Cresc...|2022-05-06|1651795200|[{0, 0, 65, {1030...|       81.0|     15.9|     60.6|      8.0|         4.0|{1003, //cdn.weat...|                   0|                   0|                 0|                 0|     24.6|     76.3|        5.8|        3.6|     10.0|     50.0|           0.0|           0.0|7.0|\n",
            "|   29|{1003, //cdn.weat...|       11.0|       51.8|     9.7|     6.0|      93|     0|2022-05-05 22:00|        1651798800|      0.0|      0.0|      30.15|     1021.0|  11.0|  51.8|1.0|  10.0|      6.0|        256|     WSW|     4.7|     2.9| Brazil|-22.83|2022-05-05 23:18|     1651803517|-45.23|         Aparecida|Sao Paulo|America/Sao_Paulo|{41, First Quarte...|2022-05-07|1651881600|[{0, 0, 76, {1006...|       82.0|     17.0|     62.6|      8.2|         5.0|{1003, //cdn.weat...|                   0|                   0|                 0|                 0|     24.2|     75.6|        4.7|        2.9|     12.4|     54.3|           0.0|           0.1|7.0|\n",
            "|   20|{1000, //cdn.weat...|       15.4|       59.7|     9.4|     5.8|      80|     0|2022-05-05 23:15|        1651803300|      0.0|      0.0|      30.13|     1020.0|  15.4|  59.7|1.0|  10.0|      6.0|        288|     WNW|     4.7|     2.9| Brasil|-22.68|2022-05-05 23:18|     1651803518|-44.45|            Arapeí|Sao Paulo|America/Sao_Paulo|{27, Waxing Cresc...|2022-05-05|1651708800|[{0, 0, 44, {1003...|       71.0|     20.3|     68.5|     10.0|         6.0|{1000, //cdn.weat...|                   0|                   0|                 0|                 0|     28.9|     84.0|       11.2|        6.9|     15.4|     59.7|           0.0|           0.0|8.0|\n",
            "|   20|{1000, //cdn.weat...|       15.4|       59.7|     9.4|     5.8|      80|     0|2022-05-05 23:15|        1651803300|      0.0|      0.0|      30.13|     1020.0|  15.4|  59.7|1.0|  10.0|      6.0|        288|     WNW|     4.7|     2.9| Brasil|-22.68|2022-05-05 23:18|     1651803518|-44.45|            Arapeí|Sao Paulo|America/Sao_Paulo|{34, Waxing Cresc...|2022-05-06|1651795200|[{0, 0, 8, {1000,...|       84.0|     17.7|     63.8|      8.8|         5.0|{1063, //cdn.weat...|                  89|                   0|                 1|                 0|     22.5|     72.5|       10.4|        6.5|     13.5|     56.3|          0.05|           1.2|7.0|\n",
            "|   20|{1000, //cdn.weat...|       15.4|       59.7|     9.4|     5.8|      80|     0|2022-05-05 23:15|        1651803300|      0.0|      0.0|      30.13|     1020.0|  15.4|  59.7|1.0|  10.0|      6.0|        288|     WNW|     4.7|     2.9| Brasil|-22.68|2022-05-05 23:18|     1651803518|-44.45|            Arapeí|Sao Paulo|America/Sao_Paulo|{41, First Quarte...|2022-05-07|1651881600|[{83, 0, 100, {11...|       89.0|     17.3|     63.2|      6.2|         3.0|{1063, //cdn.weat...|                  85|                   0|                 1|                 0|     20.0|     68.0|        9.0|        5.6|     15.8|     60.4|          0.04|           1.0|6.0|\n",
            "|   75|{1003, //cdn.weat...|       17.0|       62.6|     6.1|     3.8|      94|     0|2022-05-05 23:15|        1651803300|      0.0|      0.0|      30.15|     1021.0|  17.0|  62.6|1.0|  10.0|      6.0|        250|     WSW|     6.8|     4.3| Brasil| -23.1|2022-05-05 23:18|     1651803518|-45.72|          Caçapava|Sao Paulo|America/Sao_Paulo|{27, Waxing Cresc...|2022-05-05|1651708800|[{0, 0, 7, {1000,...|       76.0|     15.8|     60.4|     10.0|         6.0|{1003, //cdn.weat...|                   0|                   0|                 0|                 0|     23.0|     73.4|       12.6|        7.8|      8.7|     47.7|           0.0|           0.0|7.0|\n",
            "|   75|{1003, //cdn.weat...|       17.0|       62.6|     6.1|     3.8|      94|     0|2022-05-05 23:15|        1651803300|      0.0|      0.0|      30.15|     1021.0|  17.0|  62.6|1.0|  10.0|      6.0|        250|     WSW|     6.8|     4.3| Brasil| -23.1|2022-05-05 23:18|     1651803518|-45.72|          Caçapava|Sao Paulo|America/Sao_Paulo|{34, Waxing Cresc...|2022-05-06|1651795200|[{0, 0, 100, {100...|       85.0|     16.5|     61.7|      8.7|         5.0|{1063, //cdn.weat...|                  78|                   0|                 1|                 0|     23.3|     73.9|       11.2|        6.9|     12.8|     55.0|          0.03|           0.7|6.0|\n",
            "|   75|{1003, //cdn.weat...|       17.0|       62.6|     6.1|     3.8|      94|     0|2022-05-05 23:15|        1651803300|      0.0|      0.0|      30.15|     1021.0|  17.0|  62.6|1.0|  10.0|      6.0|        250|     WSW|     6.8|     4.3| Brasil| -23.1|2022-05-05 23:18|     1651803518|-45.72|          Caçapava|Sao Paulo|America/Sao_Paulo|{41, First Quarte...|2022-05-07|1651881600|[{0, 0, 71, {1006...|       83.0|     16.6|     61.9|      7.7|         4.0|{1003, //cdn.weat...|                   0|                   0|                 0|                 0|     23.5|     74.3|       11.2|        6.9|     12.1|     53.8|           0.0|           0.0|6.0|\n",
            "|   31|{1030, //cdn.weat...|       10.4|       50.7|     4.0|     2.5|      95|     0|2022-05-05 23:15|        1651803300|      0.0|      0.0|      30.15|     1021.0|  10.4|  50.7|1.0|   2.0|      1.0|        269|       W|     3.6|     2.2| Brazil|-22.67|2022-05-05 23:18|     1651803519|-45.02|Cachoeira Paulista|Sao Paulo|America/Sao_Paulo|{27, Waxing Cresc...|2022-05-05|1651708800|[{79, 0, 63, {103...|       76.0|     15.8|     60.5|      7.3|         4.0|{1063, //cdn.weat...|                  79|                   0|                 1|                 0|     24.8|     76.6|        7.6|        4.7|     10.1|     50.2|          0.03|           0.8|8.0|\n",
            "|   31|{1030, //cdn.weat...|       10.4|       50.7|     4.0|     2.5|      95|     0|2022-05-05 23:15|        1651803300|      0.0|      0.0|      30.15|     1021.0|  10.4|  50.7|1.0|   2.0|      1.0|        269|       W|     3.6|     2.2| Brazil|-22.67|2022-05-05 23:18|     1651803519|-45.02|Cachoeira Paulista|Sao Paulo|America/Sao_Paulo|{34, Waxing Cresc...|2022-05-06|1651795200|[{0, 0, 47, {1030...|       83.0|     15.4|     59.6|      5.8|         3.0|{1003, //cdn.weat...|                   0|                   0|                 0|                 0|     24.0|     75.2|        5.0|        3.1|      9.2|     48.6|           0.0|           0.1|8.0|\n",
            "|   31|{1030, //cdn.weat...|       10.4|       50.7|     4.0|     2.5|      95|     0|2022-05-05 23:15|        1651803300|      0.0|      0.0|      30.15|     1021.0|  10.4|  50.7|1.0|   2.0|      1.0|        269|       W|     3.6|     2.2| Brazil|-22.67|2022-05-05 23:18|     1651803519|-45.02|Cachoeira Paulista|Sao Paulo|America/Sao_Paulo|{41, First Quarte...|2022-05-07|1651881600|[{0, 0, 91, {1030...|       85.0|     15.4|     59.8|      5.8|         3.0|{1063, //cdn.weat...|                  79|                   0|                 1|                 0|     21.1|     70.0|        6.1|        3.8|     11.9|     53.4|          0.01|           0.2|6.0|\n",
            "|  100|{1240, //cdn.weat...|       17.2|       63.0|    10.8|     6.7|      90|     0|2022-05-05 22:00|        1651798800|     0.02|      0.5|      30.12|     1020.0|  17.2|  63.0|1.0|  10.0|      6.0|        259|       W|     6.5|     4.0| Brazil|-23.62|2022-05-05 23:18|     1651803519|-45.42|     Caraguatatuba|Sao Paulo|America/Sao_Paulo|{27, Waxing Cresc...|2022-05-05|1651708800|[{0, 0, 7, {1000,...|       72.0|     18.5|     65.3|     10.0|         6.0|{1063, //cdn.weat...|                  96|                   0|                 1|                 0|     24.4|     75.9|       15.1|        9.4|     12.8|     55.0|          0.04|           1.0|6.0|\n",
            "|  100|{1240, //cdn.weat...|       17.2|       63.0|    10.8|     6.7|      90|     0|2022-05-05 22:00|        1651798800|     0.02|      0.5|      30.12|     1020.0|  17.2|  63.0|1.0|  10.0|      6.0|        259|       W|     6.5|     4.0| Brazil|-23.62|2022-05-05 23:18|     1651803519|-45.42|     Caraguatatuba|Sao Paulo|America/Sao_Paulo|{34, Waxing Cresc...|2022-05-06|1651795200|[{95, 0, 100, {12...|       85.0|     19.5|     67.1|     10.0|         6.0|{1063, //cdn.weat...|                  95|                   0|                 1|                 0|     23.0|     73.4|        8.6|        5.4|     17.3|     63.1|          0.15|           3.8|6.0|\n",
            "|  100|{1240, //cdn.weat...|       17.2|       63.0|    10.8|     6.7|      90|     0|2022-05-05 22:00|        1651798800|     0.02|      0.5|      30.12|     1020.0|  17.2|  63.0|1.0|  10.0|      6.0|        259|       W|     6.5|     4.0| Brazil|-23.62|2022-05-05 23:18|     1651803519|-45.42|     Caraguatatuba|Sao Paulo|America/Sao_Paulo|{41, First Quarte...|2022-05-07|1651881600|[{0, 0, 61, {1003...|       82.0|     19.1|     66.4|     10.0|         6.0|{1063, //cdn.weat...|                  88|                   0|                 1|                 0|     22.9|     73.2|        7.6|        4.7|     15.8|     60.4|          0.01|           0.3|6.0|\n",
            "|   32|{1003, //cdn.weat...|       12.8|       55.0|     5.4|     3.4|      94|     0|2022-05-05 23:15|        1651803300|      0.0|      0.0|      30.15|     1021.0|  12.8|  55.0|1.0|  10.0|      6.0|        239|     WSW|     3.6|     2.2| Brazil|-23.08|2022-05-05 23:18|     1651803520|-44.97|             Cunha|Sao Paulo|America/Sao_Paulo|{27, Waxing Cresc...|2022-05-05|1651708800|[{0, 0, 100, {113...|       81.0|     15.1|     59.2|      8.3|         5.0|{1063, //cdn.weat...|                  87|                   0|                 1|                 0|     21.4|     70.5|       11.9|        7.4|      9.2|     48.6|          0.02|           0.4|7.0|\n",
            "|   32|{1003, //cdn.weat...|       12.8|       55.0|     5.4|     3.4|      94|     0|2022-05-05 23:15|        1651803300|      0.0|      0.0|      30.15|     1021.0|  12.8|  55.0|1.0|  10.0|      6.0|        239|     WSW|     3.6|     2.2| Brazil|-23.08|2022-05-05 23:18|     1651803520|-44.97|             Cunha|Sao Paulo|America/Sao_Paulo|{34, Waxing Cresc...|2022-05-06|1651795200|[{0, 0, 69, {1030...|       88.0|     15.5|     59.9|      6.3|         3.0|{1063, //cdn.weat...|                  89|                   0|                 1|                 0|     20.8|     69.4|       11.9|        7.4|     12.7|     54.9|          0.02|           0.5|7.0|\n",
            "|   32|{1003, //cdn.weat...|       12.8|       55.0|     5.4|     3.4|      94|     0|2022-05-05 23:15|        1651803300|      0.0|      0.0|      30.15|     1021.0|  12.8|  55.0|1.0|  10.0|      6.0|        239|     WSW|     3.6|     2.2| Brazil|-23.08|2022-05-05 23:18|     1651803520|-44.97|             Cunha|Sao Paulo|America/Sao_Paulo|{41, First Quarte...|2022-05-07|1651881600|[{0, 0, 100, {113...|       88.0|     15.3|     59.5|      5.3|         3.0|{1003, //cdn.weat...|                   0|                   0|                 0|                 0|     19.8|     67.6|       10.1|        6.3|     11.6|     52.9|           0.0|           0.1|7.0|\n",
            "|  100|{1240, //cdn.weat...|       20.8|       69.4|    22.0|    13.6|      87|     0|2022-05-05 22:00|        1651798800|     0.08|      2.0|      30.11|     1020.0|  20.8|  69.4|1.0|  10.0|      6.0|        232|      SW|    14.8|     9.2| Brazil|-23.78|2022-05-05 23:18|     1651803520|-45.35|          Ilhabela|Sao Paulo|America/Sao_Paulo|{27, Waxing Cresc...|2022-05-05|1651708800|[{0, 0, 6, {1000,...|       71.0|     20.5|     68.9|     10.0|         6.0|{1063, //cdn.weat...|                  96|                   0|                 1|                 0|     24.4|     75.9|       19.8|       12.3|     17.2|     63.0|          0.15|           3.7|5.0|\n",
            "|  100|{1240, //cdn.weat...|       20.8|       69.4|    22.0|    13.6|      87|     0|2022-05-05 22:00|        1651798800|     0.08|      2.0|      30.11|     1020.0|  20.8|  69.4|1.0|  10.0|      6.0|        232|      SW|    14.8|     9.2| Brazil|-23.78|2022-05-05 23:18|     1651803520|-45.35|          Ilhabela|Sao Paulo|America/Sao_Paulo|{34, Waxing Cresc...|2022-05-06|1651795200|[{95, 0, 100, {12...|       78.0|     20.8|     69.5|     10.0|         6.0|{1189, //cdn.weat...|                  95|                   0|                 1|                 0|     23.1|     73.6|       14.4|        8.9|     19.4|     66.9|          0.25|           6.4|6.0|\n",
            "+-----+--------------------+-----------+-----------+--------+--------+--------+------+----------------+------------------+---------+---------+-----------+-----------+------+------+---+------+---------+-----------+--------+--------+--------+-------+------+----------------+---------------+------+------------------+---------+-----------------+--------------------+----------+----------+--------------------+-----------+---------+---------+---------+------------+--------------------+--------------------+--------------------+------------------+------------------+---------+---------+-----------+-----------+---------+---------+--------------+--------------+---+\n",
            "only showing top 20 rows\n",
            "\n"
          ]
        }
      ]
    },
    {
      "cell_type": "code",
      "execution_count": null,
      "id": "bbc2a925-c707-46f0-a2e2-e0e0164a7312",
      "metadata": {
        "id": "bbc2a925-c707-46f0-a2e2-e0e0164a7312"
      },
      "outputs": [],
      "source": [
        "# Criar DF da Tabela 1\n",
        "# TODO\n",
        "\n",
        "table01 = spark.sql(\"\\\n",
        "SELECT \\\n",
        "  c.nome as Cidade, \\\n",
        "  c.id as CodigoDaCidade, \\\n",
        "  wf.date as Data, \\\n",
        "  c.regiao_nome as Regiao, \\\n",
        "  wf.country as Pais, \\\n",
        "  wf.lat as Latitude, \\\n",
        "  wf.lon as Longitude, \\\n",
        "  wf.mintemp_c as TemperaturaMinima, \\\n",
        "  wf.maxtemp_c as TemperaturaMaxima, \\\n",
        "  wf.avgtemp_c as TemperaturaMedia, \\\n",
        "  IF(wf.daily_will_it_rain = 1, 'Sim', 'Não') as VaiChover, \\\n",
        "  wf.daily_chance_of_rain as ChanceDeChuva, \\\n",
        "  wf.astro.sunrise as NascerDoSol, \\\n",
        "  wf.astro.sunset as PorDoSol, \\\n",
        "  wf.maxwind_kph as VelocidadeMaximaDoVento \\\n",
        "FROM \\\n",
        "  cities as c \\\n",
        "LEFT JOIN \\\n",
        "  weather_forecast as wf \\\n",
        "ON \\\n",
        "  c.nome = wf.name\"\n",
        ")"
      ]
    },
    {
      "cell_type": "code",
      "source": [
        "table01.printSchema()"
      ],
      "metadata": {
        "colab": {
          "base_uri": "https://localhost:8080/"
        },
        "id": "0R9gVREA8IJ6",
        "outputId": "845ac96e-4663-4649-cab0-68aacca3f216"
      },
      "id": "0R9gVREA8IJ6",
      "execution_count": null,
      "outputs": [
        {
          "output_type": "stream",
          "name": "stdout",
          "text": [
            "root\n",
            " |-- Cidade: string (nullable = true)\n",
            " |-- CodigoDaCidade: string (nullable = true)\n",
            " |-- Data: string (nullable = true)\n",
            " |-- Regiao: string (nullable = true)\n",
            " |-- Pais: string (nullable = true)\n",
            " |-- Latitude: double (nullable = true)\n",
            " |-- Longitude: double (nullable = true)\n",
            " |-- TemperaturaMinima: double (nullable = true)\n",
            " |-- TemperaturaMaxima: double (nullable = true)\n",
            " |-- TemperaturaMedia: double (nullable = true)\n",
            " |-- VaiChover: string (nullable = false)\n",
            " |-- ChanceDeChuva: long (nullable = true)\n",
            " |-- NascerDoSol: string (nullable = true)\n",
            " |-- PorDoSol: string (nullable = true)\n",
            " |-- VelocidadeMaximaDoVento: double (nullable = true)\n",
            "\n"
          ]
        }
      ]
    },
    {
      "cell_type": "code",
      "source": [
        "# Explode columns array\n",
        "\n",
        "# 01 - Indentify columns with array \n",
        "columns = [weather_forecast.columns[z] for z in range(1, len(weather_forecast.columns)) if \"array\" in weather_forecast.dtypes[z][1]]"
      ],
      "metadata": {
        "id": "Ph5qzXk2-YpA"
      },
      "id": "Ph5qzXk2-YpA",
      "execution_count": null,
      "outputs": []
    },
    {
      "cell_type": "code",
      "source": [
        "# Pegar a coluna array e a coluna pai\n",
        "columns_array = []\n",
        "for x in weather_forecast.dtypes:\n",
        "  if \"array\" in x[1]:\n",
        "    print(x[1].split(\":array\"))\n",
        "    #columns_array.append([x[0]] + [z for i in x[1].split(\"array\") for z in i.split(\",\") if \":\" not in z])\n",
        "#print(columns_array)"
      ],
      "metadata": {
        "id": "lPSD4TRcw-fh",
        "outputId": "8dd174f6-831c-4de2-8998-defefe256343",
        "colab": {
          "base_uri": "https://localhost:8080/"
        }
      },
      "id": "lPSD4TRcw-fh",
      "execution_count": null,
      "outputs": [
        {
          "output_type": "stream",
          "name": "stdout",
          "text": [
            "['struct<forecastday', '<struct<astro:struct<moon_illumination:string,moon_phase:string,moonrise:string,moonset:string,sunrise:string,sunset:string>,date:string,date_epoch:bigint,day:struct<avghumidity:double,avgtemp_c:double,avgtemp_f:double,avgvis_km:double,avgvis_miles:double,condition:struct<code:bigint,icon:string,text:string>,daily_chance_of_rain:bigint,daily_chance_of_snow:bigint,daily_will_it_rain:bigint,daily_will_it_snow:bigint,maxtemp_c:double,maxtemp_f:double,maxwind_kph:double,maxwind_mph:double,mintemp_c:double,mintemp_f:double,totalprecip_in:double,totalprecip_mm:double,uv:double>,hour', '<struct<chance_of_rain:bigint,chance_of_snow:bigint,cloud:bigint,condition:struct<code:bigint,icon:string,text:string>,dewpoint_c:double,dewpoint_f:double,feelslike_c:double,feelslike_f:double,gust_kph:double,gust_mph:double,heatindex_c:double,heatindex_f:double,humidity:bigint,is_day:bigint,precip_in:double,precip_mm:double,pressure_in:double,pressure_mb:double,temp_c:double,temp_f:double,time:string,time_epoch:bigint,uv:double,vis_km:double,vis_miles:double,will_it_rain:bigint,will_it_snow:bigint,wind_degree:bigint,wind_dir:string,wind_kph:double,wind_mph:double,windchill_c:double,windchill_f:double>>>>>']\n"
          ]
        }
      ]
    },
    {
      "cell_type": "code",
      "source": [
        "# Renomeando as Colunas e Removendo colunas\n",
        "#for column in columns:\n",
        "#  table01 = table01.select(\"*\", explode_outer(column).alias(f\"df_{column}\")).drop(column)"
      ],
      "metadata": {
        "id": "EnvvU_IRopIu"
      },
      "id": "EnvvU_IRopIu",
      "execution_count": null,
      "outputs": []
    },
    {
      "cell_type": "code",
      "execution_count": null,
      "id": "3bab3315-f50b-4269-8823-ccfda0fefbfe",
      "metadata": {
        "id": "3bab3315-f50b-4269-8823-ccfda0fefbfe"
      },
      "outputs": [],
      "source": [
        "# Criar DF da Tabela 2\n",
        "# TODO\n",
        "\n",
        "table02 = spark.sql(\"\\\n",
        "SELECT \\\n",
        "  c.nome as Cidade, \\\n",
        "  COUNT(wf.date) as TotalDiasMapeado, \\\n",
        "  SUM(wf.daily_will_it_rain) as QtdDiasVaiChover, \\\n",
        "  COUNT(wf.date) - SUM(wf.daily_will_it_rain) as QtdDiasNaoVaiChover \\\n",
        "FROM \\\n",
        "  cities as c \\\n",
        "INNER JOIN \\\n",
        "  weather_forecast as wf \\\n",
        "ON \\\n",
        "  c.nome = wf.name \\\n",
        "GROUP BY \\\n",
        "  c.nome \\\n",
        "HAVING \\\n",
        "  SUM(wf.daily_will_it_rain) >= 1\"\n",
        ")"
      ]
    },
    {
      "cell_type": "code",
      "execution_count": null,
      "id": "c1ff378b-4c24-47dc-aba1-742211cd385d",
      "metadata": {
        "id": "c1ff378b-4c24-47dc-aba1-742211cd385d"
      },
      "outputs": [],
      "source": [
        "# Exportar CSVs\n",
        "# TODO\n",
        "\n",
        "table01.repartition(1).write.format(\"csv\") \\\n",
        "       .option(\"header\", \"true\") \\\n",
        "       .mode(\"overwrite\") \\\n",
        "       .save(\"tabela_01.csv\")\n",
        "table02.repartition(1).write.format(\"csv\") \\\n",
        "       .option(\"header\", \"true\") \\\n",
        "       .mode(\"overwrite\") \\\n",
        "       .save(\"tabela_02.csv\")"
      ]
    },
    {
      "cell_type": "code",
      "source": [
        "!zip -r tabela_01.zip tabela_01.csv\n",
        "!zip -r tabela_02.zip tabela_02.csv"
      ],
      "metadata": {
        "colab": {
          "base_uri": "https://localhost:8080/"
        },
        "id": "8WfcQ7S4ScvP",
        "outputId": "f5638b99-bb82-4a71-e679-0182cde7f895"
      },
      "id": "8WfcQ7S4ScvP",
      "execution_count": null,
      "outputs": [
        {
          "output_type": "stream",
          "name": "stdout",
          "text": [
            "  adding: tabela_01.csv/ (stored 0%)\n",
            "  adding: tabela_01.csv/_SUCCESS (stored 0%)\n",
            "  adding: tabela_01.csv/._SUCCESS.crc (stored 0%)\n",
            "  adding: tabela_01.csv/part-00000-39fddafa-fb61-44ef-bf09-a8167b572baf-c000.csv (deflated 78%)\n",
            "  adding: tabela_01.csv/.part-00000-39fddafa-fb61-44ef-bf09-a8167b572baf-c000.csv.crc (stored 0%)\n",
            "  adding: tabela_02.csv/ (stored 0%)\n",
            "  adding: tabela_02.csv/_SUCCESS (stored 0%)\n",
            "  adding: tabela_02.csv/part-00000-320f9cbe-4a87-400f-a401-eaf438a85bfc-c000.csv (deflated 39%)\n",
            "  adding: tabela_02.csv/._SUCCESS.crc (stored 0%)\n",
            "  adding: tabela_02.csv/.part-00000-320f9cbe-4a87-400f-a401-eaf438a85bfc-c000.csv.crc (stored 0%)\n"
          ]
        }
      ]
    }
  ],
  "metadata": {
    "kernelspec": {
      "display_name": "Python 3 (ipykernel)",
      "language": "python",
      "name": "python3"
    },
    "language_info": {
      "codemirror_mode": {
        "name": "ipython",
        "version": 3
      },
      "file_extension": ".py",
      "mimetype": "text/x-python",
      "name": "python",
      "nbconvert_exporter": "python",
      "pygments_lexer": "ipython3",
      "version": "3.8.10"
    },
    "colab": {
      "name": "spark_test.ipynb",
      "provenance": [],
      "collapsed_sections": [],
      "include_colab_link": true
    }
  },
  "nbformat": 4,
  "nbformat_minor": 5
}