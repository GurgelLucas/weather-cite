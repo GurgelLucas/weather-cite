{
  "cells": [
    {
      "cell_type": "markdown",
      "id": "580dd39c-f066-4c32-af47-648eb71f5918",
      "metadata": {
        "tags": [],
        "id": "580dd39c-f066-4c32-af47-648eb71f5918"
      },
      "source": [
        "# Desafio: Consumo de Dados para Previsão do Tempo das Cidades do Vale do Paraíba.\n",
        "\n",
        "## Objetivo\n",
        "\n",
        "Avaliar conhecimentos nas linguagens Python e SQL e na engine de processamento Apache Spark.\n",
        "\n",
        "## Descrição\n",
        "\n",
        "Neste desafio, você desenvolverá um notebook que será responsável por extrair dados de previsão do tempo das cidades do Vale do Paraíba, região onde se localiza a Dataside. Para consultar todas as cidades dessa região, utilizaremos a API do IBGE. No caso, basta realizar uma requisição HTTP com o método GET, utilizando a URL abaixo:\n",
        "\n",
        "```\n",
        "https://servicodados.ibge.gov.br/api/v1/localidades/mesorregioes/3513/municipios\n",
        "```\n",
        "\n",
        "Com esses dados, gerar um data frame e a partir dele uma temp view. Ex: \"cities\"\n",
        "\n",
        "Utilizando os nomes das cidades, deverão ser consultados os dados de previsão de tempo para cada cidade. Para realizar essa consulta, poderá ser utilizada qualquer uma das APIs informadas no link abaixo.\n",
        "\n",
        "[Public APIs - Wather](https://github.com/public-apis/public-apis#weather)\n",
        "\n",
        "Obs.: Para algumas, pode ser necessário cadastrar-se para acessar sua API Key. Mas nenhuma delas deve precisar cadastrar cartão de crédito ou adicionar qualquer valor monetário para utilizar. Caso alguma solicite, basta optar por outra.\n",
        "\n",
        "Com os dados consultados, gerar um data frame e partir dele outra temp view. Ex: \"forecasts\"\n",
        "\n",
        "Com as temp views geradas, utilizar Spark SQL para criar queries e gerar data frames das seguintes tabelas:\n",
        "\n",
        "- Tabela 1: dados de previsão do tempo para os próximos cinco dias, para cada data e cidade consultadas. As colunas dessa tabela serão:\n",
        "    - Cidade\n",
        "    - CodigoDaCidade\n",
        "    - Data\n",
        "    - Regiao\n",
        "    - Pais\n",
        "    - Latitude\n",
        "    - Longigute\n",
        "    - TemperaturaMaxima\n",
        "    - TemperaturaMinima\n",
        "    - TemperaturaMedia\n",
        "    - VaiChover\n",
        "    - ChanceDeChuva\n",
        "    - CondicaoDoTempo\n",
        "    - NascerDoSol\n",
        "    - PorDoSol\n",
        "    - VelocidadeMaximaDoVento\n",
        "    \n",
        "    Obs.: Os valores da coluna \"VaiChover\" deverá ser \"Sim\" ou \"Não\". E a coluna \"CodigoDaCidade\" é o ID retornado junto com os nomes da cidades na API do IBGE.\n",
        "    Obs.: Dependendo da API utilizada, algumas colunas podem não existir e ficarão em branco. Você deve optar por uma API que traga o maior número de informações possível.\n",
        "\n",
        "- Tabela 2: quantidade de dias com chuva e sem chuva para os dias consultados, para cada data consultada. Colunas:\n",
        "    - Cidade\n",
        "    - QtdDiasVaiChover\n",
        "    - QtdDiasNaoVaiChover\n",
        "    - TotalDiasMapeados\n",
        "\n",
        "Essas tabelas deverão ser exportadas em formado CSV e entregue no final do desafio.\n",
        "\n",
        "## To Do\n",
        "\n",
        "[ ] - Consultar municípios do Vale do Paraíba, gerar um data frame e criar uma temp view com esses dados.\n",
        "[ ] - Consultar dados do tempo para cada município, gerar um data frame e criar uma outra temp view.\n",
        "[ ] - Utilizar Spark SQL para gerar os data frames das Tabelas 1 e 2.\n",
        "[ ] - Exportar os data frames para CSV.\n",
        "\n",
        "## Atenção\n",
        "\n",
        "- Existe um limite de requisições de 10000 requests por conta cadastrada na m3o.\n",
        "- Essa API pode retornar cidades de outras regiões que possuem nome semelhante a alguma cidade do Vale do Paraiba. Pode mantê-las ou filtrar para gerar as tabelas apenas com dados de Regiao = Sao Paulo. Fica a seu critério.\n",
        "\n",
        "## Entregando o desafio\n",
        "\n",
        "Concluindo todos os passos informados em To Do, basta salvar o arquivo .ipynb do notebook e enviar para a Dataside juntamente com os CSVs das duas tabelas.\n"
      ]
    },
    {
      "cell_type": "code",
      "source": [
        "# instalar o JAVA\n",
        "!apt-get install openjdk-8-jdk-headless -qq > /dev/null"
      ],
      "metadata": {
        "id": "3FeBVD2MCKUr"
      },
      "id": "3FeBVD2MCKUr",
      "execution_count": null,
      "outputs": []
    },
    {
      "cell_type": "code",
      "source": [
        "# Baixar a versão mais recente do Spark\n",
        "!wget -q https://downloads.apache.org/spark/spark-3.1.2/spark-3.1.2-bin-hadoop2.7.tgz"
      ],
      "metadata": {
        "id": "AGRLK6PDCN1k"
      },
      "id": "AGRLK6PDCN1k",
      "execution_count": null,
      "outputs": []
    },
    {
      "cell_type": "code",
      "source": [
        "# Deszipar o spark\n",
        "!tar xf /content/spark-3.1.2-bin-hadoop2.7.tgz\n",
        "!rm spark-3.1.2-bin-hadoop2.7.tgz"
      ],
      "metadata": {
        "id": "JNPdjZ3CCTFq"
      },
      "id": "JNPdjZ3CCTFq",
      "execution_count": null,
      "outputs": []
    },
    {
      "cell_type": "code",
      "source": [
        "# Declarando as variáveis de ambiente\n",
        "import os\n",
        "os.environ[\"JAVA_HOME\"] = \"/usr/lib/jvm/java-8-openjdk-amd64\"\n",
        "os.environ[\"SPARK_HOME\"] = \"/content/spark-3.1.2-bin-hadoop2.7\""
      ],
      "metadata": {
        "id": "ncnVqaCYBLvy"
      },
      "id": "ncnVqaCYBLvy",
      "execution_count": null,
      "outputs": []
    },
    {
      "cell_type": "code",
      "source": [
        "# Instalar a lib que ajuda e a encontrar o Spark no sistema e importá-lo como uma biblioteca regular\n",
        "!pip install -q findspark unidecode"
      ],
      "metadata": {
        "colab": {
          "base_uri": "https://localhost:8080/"
        },
        "id": "lrdQv3_qAl8K",
        "outputId": "a0f8c108-d0aa-4736-aa5b-3dd91cf8b84d"
      },
      "id": "lrdQv3_qAl8K",
      "execution_count": null,
      "outputs": [
        {
          "output_type": "stream",
          "name": "stdout",
          "text": [
            "\u001b[?25l\r\u001b[K     |█▍                              | 10 kB 18.4 MB/s eta 0:00:01\r\u001b[K     |██▉                             | 20 kB 7.4 MB/s eta 0:00:01\r\u001b[K     |████▏                           | 30 kB 8.4 MB/s eta 0:00:01\r\u001b[K     |█████▋                          | 40 kB 7.8 MB/s eta 0:00:01\r\u001b[K     |███████                         | 51 kB 3.8 MB/s eta 0:00:01\r\u001b[K     |████████▍                       | 61 kB 4.4 MB/s eta 0:00:01\r\u001b[K     |█████████▊                      | 71 kB 4.5 MB/s eta 0:00:01\r\u001b[K     |███████████▏                    | 81 kB 4.7 MB/s eta 0:00:01\r\u001b[K     |████████████▌                   | 92 kB 5.2 MB/s eta 0:00:01\r\u001b[K     |██████████████                  | 102 kB 4.3 MB/s eta 0:00:01\r\u001b[K     |███████████████▎                | 112 kB 4.3 MB/s eta 0:00:01\r\u001b[K     |████████████████▊               | 122 kB 4.3 MB/s eta 0:00:01\r\u001b[K     |██████████████████              | 133 kB 4.3 MB/s eta 0:00:01\r\u001b[K     |███████████████████▌            | 143 kB 4.3 MB/s eta 0:00:01\r\u001b[K     |████████████████████▉           | 153 kB 4.3 MB/s eta 0:00:01\r\u001b[K     |██████████████████████▎         | 163 kB 4.3 MB/s eta 0:00:01\r\u001b[K     |███████████████████████▋        | 174 kB 4.3 MB/s eta 0:00:01\r\u001b[K     |█████████████████████████       | 184 kB 4.3 MB/s eta 0:00:01\r\u001b[K     |██████████████████████████▍     | 194 kB 4.3 MB/s eta 0:00:01\r\u001b[K     |███████████████████████████▉    | 204 kB 4.3 MB/s eta 0:00:01\r\u001b[K     |█████████████████████████████▏  | 215 kB 4.3 MB/s eta 0:00:01\r\u001b[K     |██████████████████████████████▋ | 225 kB 4.3 MB/s eta 0:00:01\r\u001b[K     |████████████████████████████████| 235 kB 4.3 MB/s eta 0:00:01\r\u001b[K     |████████████████████████████████| 235 kB 4.3 MB/s \n",
            "\u001b[?25h"
          ]
        }
      ]
    },
    {
      "cell_type": "code",
      "source": [
        "import urllib.parse"
      ],
      "metadata": {
        "id": "MFve651VzRii"
      },
      "id": "MFve651VzRii",
      "execution_count": 45,
      "outputs": []
    },
    {
      "cell_type": "code",
      "execution_count": 98,
      "id": "a1cb6c40-3073-43b0-b7f4-95e7c9dd8245",
      "metadata": {
        "tags": [],
        "id": "a1cb6c40-3073-43b0-b7f4-95e7c9dd8245"
      },
      "outputs": [],
      "source": [
        "import findspark\n",
        "findspark.init()\n",
        "\n",
        "import requests\n",
        "import json\n",
        "import unidecode\n",
        "from pyspark.sql import SparkSession\n",
        "from pyspark.sql.types import *\n",
        "from pyspark.sql.functions import from_json, col, explode_outer\n",
        "\n",
        "spark = SparkSession.builder \\\n",
        "      .master(\"local[1]\") \\\n",
        "      .appName(\"SparkByExamples.com\") \\\n",
        "      .getOrCreate()"
      ]
    },
    {
      "cell_type": "code",
      "execution_count": 25,
      "id": "cdc739f4-2ebf-4ff2-91ff-89689510e618",
      "metadata": {
        "tags": [],
        "id": "cdc739f4-2ebf-4ff2-91ff-89689510e618",
        "colab": {
          "base_uri": "https://localhost:8080/"
        },
        "outputId": "80c534d6-ab66-4878-bbc1-73eee587c422"
      },
      "outputs": [
        {
          "output_type": "stream",
          "name": "stdout",
          "text": [
            "root\n",
            " |-- id: string (nullable = true)\n",
            " |-- microrregiao: struct (nullable = true)\n",
            " |    |-- id: long (nullable = true)\n",
            " |    |-- mesorregiao: struct (nullable = true)\n",
            " |    |    |-- UF: struct (nullable = true)\n",
            " |    |    |    |-- id: long (nullable = true)\n",
            " |    |    |    |-- nome: string (nullable = true)\n",
            " |    |    |    |-- regiao: struct (nullable = true)\n",
            " |    |    |    |    |-- id: long (nullable = true)\n",
            " |    |    |    |    |-- nome: string (nullable = true)\n",
            " |    |    |    |    |-- sigla: string (nullable = true)\n",
            " |    |    |    |-- sigla: string (nullable = true)\n",
            " |    |    |-- id: long (nullable = true)\n",
            " |    |    |-- nome: string (nullable = true)\n",
            " |    |-- nome: string (nullable = true)\n",
            " |-- nome: string (nullable = true)\n",
            " |-- regiao-imediata: struct (nullable = true)\n",
            " |    |-- id: long (nullable = true)\n",
            " |    |-- nome: string (nullable = true)\n",
            " |    |-- regiao-intermediaria: struct (nullable = true)\n",
            " |    |    |-- UF: struct (nullable = true)\n",
            " |    |    |    |-- id: long (nullable = true)\n",
            " |    |    |    |-- nome: string (nullable = true)\n",
            " |    |    |    |-- regiao: struct (nullable = true)\n",
            " |    |    |    |    |-- id: long (nullable = true)\n",
            " |    |    |    |    |-- nome: string (nullable = true)\n",
            " |    |    |    |    |-- sigla: string (nullable = true)\n",
            " |    |    |    |-- sigla: string (nullable = true)\n",
            " |    |    |-- id: long (nullable = true)\n",
            " |    |    |-- nome: string (nullable = true)\n",
            "\n"
          ]
        }
      ],
      "source": [
        "# Buscar cidades do Vale do Paraíba\n",
        "# TODO\n",
        "\n",
        "req = requests.get(\"https://servicodados.ibge.gov.br/api/v1/localidades/mesorregioes/3513/municipios\")\n",
        "data = req.json()\n",
        "\n",
        "# Criar data frame com as cidades\n",
        "# TODO\n",
        "\n",
        "cities = spark.read.json(spark.sparkContext.parallelize([data]))\n",
        "cities.printSchema()\n",
        "\n",
        "# Criar view com as cidades\n",
        "# TODO\n",
        "vw_cities = cities.createOrReplaceTempView(\"cities\")\n",
        "#spark.sql(\"SELECT microrregiao FROM cities\").show()"
      ]
    },
    {
      "cell_type": "markdown",
      "source": [
        "Cidade IBGE\n",
        "CodigoCidade IBGE\n",
        "Data forecast\n",
        "Regiao IBGE\n",
        "Pais IBGE ou apiWearth location.country\n",
        "Latitude apiWearth location. \"lat\": -22.83,\n",
        "Longitude apiWearth location. lon\n",
        "TemperaturaMáxima apiWearth forecast.forecastday.day.maxtemp_c\n",
        "TemperaturaMinima apiWearth forecast.forecastday.day.mintemp_c\n",
        "TemperaturaMédia apiWearth forecast.forecastday.day.avgtemp_c\n",
        "vaiChover \n",
        "ChancedeChuva\n",
        "NascerdoSol forecast.forecastday.astro.sunrise\n",
        "PordoSol forecast.forecastday.astro.sunset\n",
        "VelocidadeMaximaDoVento forecast.forecastday.day.maxwind_kph"
      ],
      "metadata": {
        "id": "B3ZnqUd5GF9o"
      },
      "id": "B3ZnqUd5GF9o"
    },
    {
      "cell_type": "code",
      "execution_count": 108,
      "id": "c4a40a6f-d5f1-4524-9d0b-d1e6e24dfbfa",
      "metadata": {
        "tags": [],
        "id": "c4a40a6f-d5f1-4524-9d0b-d1e6e24dfbfa",
        "colab": {
          "base_uri": "https://localhost:8080/"
        },
        "outputId": "b58ea1fd-2034-42d4-e587-9d747c00bdc6"
      },
      "outputs": [
        {
          "output_type": "stream",
          "name": "stdout",
          "text": [
            "root\n",
            " |-- current: struct (nullable = true)\n",
            " |    |-- cloud: long (nullable = true)\n",
            " |    |-- condition: struct (nullable = true)\n",
            " |    |    |-- code: long (nullable = true)\n",
            " |    |    |-- icon: string (nullable = true)\n",
            " |    |    |-- text: string (nullable = true)\n",
            " |    |-- feelslike_c: double (nullable = true)\n",
            " |    |-- feelslike_f: double (nullable = true)\n",
            " |    |-- gust_kph: double (nullable = true)\n",
            " |    |-- gust_mph: double (nullable = true)\n",
            " |    |-- humidity: long (nullable = true)\n",
            " |    |-- is_day: long (nullable = true)\n",
            " |    |-- last_updated: string (nullable = true)\n",
            " |    |-- last_updated_epoch: long (nullable = true)\n",
            " |    |-- precip_in: double (nullable = true)\n",
            " |    |-- precip_mm: double (nullable = true)\n",
            " |    |-- pressure_in: double (nullable = true)\n",
            " |    |-- pressure_mb: double (nullable = true)\n",
            " |    |-- temp_c: double (nullable = true)\n",
            " |    |-- temp_f: double (nullable = true)\n",
            " |    |-- uv: double (nullable = true)\n",
            " |    |-- vis_km: double (nullable = true)\n",
            " |    |-- vis_miles: double (nullable = true)\n",
            " |    |-- wind_degree: long (nullable = true)\n",
            " |    |-- wind_dir: string (nullable = true)\n",
            " |    |-- wind_kph: double (nullable = true)\n",
            " |    |-- wind_mph: double (nullable = true)\n",
            " |-- forecast: struct (nullable = true)\n",
            " |    |-- forecastday: array (nullable = true)\n",
            " |    |    |-- element: struct (containsNull = true)\n",
            " |    |    |    |-- astro: struct (nullable = true)\n",
            " |    |    |    |    |-- moon_illumination: string (nullable = true)\n",
            " |    |    |    |    |-- moon_phase: string (nullable = true)\n",
            " |    |    |    |    |-- moonrise: string (nullable = true)\n",
            " |    |    |    |    |-- moonset: string (nullable = true)\n",
            " |    |    |    |    |-- sunrise: string (nullable = true)\n",
            " |    |    |    |    |-- sunset: string (nullable = true)\n",
            " |    |    |    |-- date: string (nullable = true)\n",
            " |    |    |    |-- date_epoch: long (nullable = true)\n",
            " |    |    |    |-- day: struct (nullable = true)\n",
            " |    |    |    |    |-- avghumidity: double (nullable = true)\n",
            " |    |    |    |    |-- avgtemp_c: double (nullable = true)\n",
            " |    |    |    |    |-- avgtemp_f: double (nullable = true)\n",
            " |    |    |    |    |-- avgvis_km: double (nullable = true)\n",
            " |    |    |    |    |-- avgvis_miles: double (nullable = true)\n",
            " |    |    |    |    |-- condition: struct (nullable = true)\n",
            " |    |    |    |    |    |-- code: long (nullable = true)\n",
            " |    |    |    |    |    |-- icon: string (nullable = true)\n",
            " |    |    |    |    |    |-- text: string (nullable = true)\n",
            " |    |    |    |    |-- daily_chance_of_rain: long (nullable = true)\n",
            " |    |    |    |    |-- daily_chance_of_snow: long (nullable = true)\n",
            " |    |    |    |    |-- daily_will_it_rain: long (nullable = true)\n",
            " |    |    |    |    |-- daily_will_it_snow: long (nullable = true)\n",
            " |    |    |    |    |-- maxtemp_c: double (nullable = true)\n",
            " |    |    |    |    |-- maxtemp_f: double (nullable = true)\n",
            " |    |    |    |    |-- maxwind_kph: double (nullable = true)\n",
            " |    |    |    |    |-- maxwind_mph: double (nullable = true)\n",
            " |    |    |    |    |-- mintemp_c: double (nullable = true)\n",
            " |    |    |    |    |-- mintemp_f: double (nullable = true)\n",
            " |    |    |    |    |-- totalprecip_in: double (nullable = true)\n",
            " |    |    |    |    |-- totalprecip_mm: double (nullable = true)\n",
            " |    |    |    |    |-- uv: double (nullable = true)\n",
            " |    |    |    |-- hour: array (nullable = true)\n",
            " |    |    |    |    |-- element: struct (containsNull = true)\n",
            " |    |    |    |    |    |-- chance_of_rain: long (nullable = true)\n",
            " |    |    |    |    |    |-- chance_of_snow: long (nullable = true)\n",
            " |    |    |    |    |    |-- cloud: long (nullable = true)\n",
            " |    |    |    |    |    |-- condition: struct (nullable = true)\n",
            " |    |    |    |    |    |    |-- code: long (nullable = true)\n",
            " |    |    |    |    |    |    |-- icon: string (nullable = true)\n",
            " |    |    |    |    |    |    |-- text: string (nullable = true)\n",
            " |    |    |    |    |    |-- dewpoint_c: double (nullable = true)\n",
            " |    |    |    |    |    |-- dewpoint_f: double (nullable = true)\n",
            " |    |    |    |    |    |-- feelslike_c: double (nullable = true)\n",
            " |    |    |    |    |    |-- feelslike_f: double (nullable = true)\n",
            " |    |    |    |    |    |-- gust_kph: double (nullable = true)\n",
            " |    |    |    |    |    |-- gust_mph: double (nullable = true)\n",
            " |    |    |    |    |    |-- heatindex_c: double (nullable = true)\n",
            " |    |    |    |    |    |-- heatindex_f: double (nullable = true)\n",
            " |    |    |    |    |    |-- humidity: long (nullable = true)\n",
            " |    |    |    |    |    |-- is_day: long (nullable = true)\n",
            " |    |    |    |    |    |-- precip_in: double (nullable = true)\n",
            " |    |    |    |    |    |-- precip_mm: double (nullable = true)\n",
            " |    |    |    |    |    |-- pressure_in: double (nullable = true)\n",
            " |    |    |    |    |    |-- pressure_mb: double (nullable = true)\n",
            " |    |    |    |    |    |-- temp_c: double (nullable = true)\n",
            " |    |    |    |    |    |-- temp_f: double (nullable = true)\n",
            " |    |    |    |    |    |-- time: string (nullable = true)\n",
            " |    |    |    |    |    |-- time_epoch: long (nullable = true)\n",
            " |    |    |    |    |    |-- uv: double (nullable = true)\n",
            " |    |    |    |    |    |-- vis_km: double (nullable = true)\n",
            " |    |    |    |    |    |-- vis_miles: double (nullable = true)\n",
            " |    |    |    |    |    |-- will_it_rain: long (nullable = true)\n",
            " |    |    |    |    |    |-- will_it_snow: long (nullable = true)\n",
            " |    |    |    |    |    |-- wind_degree: long (nullable = true)\n",
            " |    |    |    |    |    |-- wind_dir: string (nullable = true)\n",
            " |    |    |    |    |    |-- wind_kph: double (nullable = true)\n",
            " |    |    |    |    |    |-- wind_mph: double (nullable = true)\n",
            " |    |    |    |    |    |-- windchill_c: double (nullable = true)\n",
            " |    |    |    |    |    |-- windchill_f: double (nullable = true)\n",
            " |-- location: struct (nullable = true)\n",
            " |    |-- country: string (nullable = true)\n",
            " |    |-- lat: double (nullable = true)\n",
            " |    |-- localtime: string (nullable = true)\n",
            " |    |-- localtime_epoch: long (nullable = true)\n",
            " |    |-- lon: double (nullable = true)\n",
            " |    |-- name: string (nullable = true)\n",
            " |    |-- region: string (nullable = true)\n",
            " |    |-- tz_id: string (nullable = true)\n",
            "\n"
          ]
        }
      ],
      "source": [
        "# Buscar previsão do tempo para as cidades\n",
        "# TODO\n",
        "data = []\n",
        "for city in cities.collect():\n",
        "  cidade = urllib.parse.quote(city.nome)\n",
        "  req = requests.get(f\"http://api.weatherapi.com/v1/forecast.json?key=49e9a2605cc34c618b172338220405&q={cidade}&days=5&aqi=no&alerts=no\")\n",
        "  res = req.json()\n",
        "  data.append(res)\n",
        "\n",
        "# Criar data frame com as previsões\n",
        "# TODO\n",
        "weather_forecast = spark.read.json(spark.sparkContext.parallelize(data))\n",
        "weather_forecast.printSchema()\n",
        "\n",
        "# Criar view com as previsões\n",
        "# TODO\n",
        "vw_weather_forecast = weather_forecast.createOrReplaceTempView(\"weather_forecast\")"
      ]
    },
    {
      "cell_type": "code",
      "execution_count": 127,
      "id": "bbc2a925-c707-46f0-a2e2-e0e0164a7312",
      "metadata": {
        "id": "bbc2a925-c707-46f0-a2e2-e0e0164a7312",
        "colab": {
          "base_uri": "https://localhost:8080/"
        },
        "outputId": "51ce0a24-8eca-4553-9b1d-f94662c0d561"
      },
      "outputs": [
        {
          "output_type": "stream",
          "name": "stdout",
          "text": [
            "+--------------------+--------------+--------------------+--------+--------+---------+------------------+------------------+------------------+---------+-------------+--------------------+--------------------+-----------------------+\n",
            "|              Cidade|CodigoDaCidade|                Data|    Pais|Latitude|Longitude| TemperaturaMinima| TemperaturaMaxima|  TemperaturaMedia|VaiChover|ChanceDeChuva|         NascerDoSol|            PorDoSol|VelocidadeMaximaDoVento|\n",
            "+--------------------+--------------+--------------------+--------+--------+---------+------------------+------------------+------------------+---------+-------------+--------------------+--------------------+-----------------------+\n",
            "|São Bento do Sapucaí|       3548609|                null|    null|    null|     null|              null|              null|              null|     null|         null|                null|                null|                   null|\n",
            "|           Paraibuna|       3535606|[2022-05-04, 2022...|  Brazil|  -23.38|   -45.65|[14.8, 10.4, 12.5]|[22.8, 24.4, 21.9]|[18.4, 16.4, 16.6]|[1, 0, 1]|  [78, 0, 87]|[06:25 AM, 06:25 ...|[05:36 PM, 05:35 ...|     [15.8, 14.4, 13.3]|\n",
            "|São Luiz do Parai...|       3550001|                null|    null|    null|     null|              null|              null|              null|     null|         null|                null|                null|                   null|\n",
            "|           Aparecida|       3502507|[2022-05-04, 2022...|  Brazil|  -22.83|   -45.23|  [13.6, 8.4, 7.9]|[27.8, 25.8, 24.1]|[19.9, 15.6, 15.0]|[1, 0, 0]|   [87, 0, 0]|[06:21 AM, 06:22 ...|[05:34 PM, 05:33 ...|        [8.6, 7.9, 6.8]|\n",
            "|             Igaratá|       3520202|                null|    null|    null|     null|              null|              null|              null|     null|         null|                null|                null|                   null|\n",
            "|              Arapeí|       3503158|[2022-05-04, 2022...|  Brasil|  -22.68|   -44.45|[17.3, 16.1, 13.2]|[29.4, 29.4, 23.5]|[22.4, 21.0, 18.0]|[1, 0, 1]| [89, 69, 89]|[06:18 AM, 06:18 ...|[05:31 PM, 05:31 ...|        [6.5, 5.4, 8.6]|\n",
            "|        Santa Branca|       3546009|[2022-05-04, 2022...|  Brazil|   -23.4|   -45.88|[13.5, 10.8, 12.8]|[22.7, 22.7, 20.4]|[17.7, 15.8, 16.3]|[1, 0, 1]|  [81, 0, 86]|[06:25 AM, 06:26 ...|[05:36 PM, 05:35 ...|     [16.9, 14.8, 14.0]|\n",
            "|     Pindamonhangaba|       3538006|[2022-05-04, 2022...|  Brazil|  -22.92|   -45.47|  [13.1, 9.2, 7.8]|[26.5, 24.5, 23.8]|[17.9, 14.9, 14.6]|[1, 0, 0]|   [85, 0, 0]|[06:23 AM, 06:23 ...|[05:35 PM, 05:34 ...|       [8.3, 7.6, 10.1]|\n",
            "|  Cachoeira Paulista|       3508603|[2022-05-04, 2022...|  Brazil|  -22.67|   -45.02|  [14.0, 9.8, 8.4]|[27.9, 24.4, 23.4]|[18.9, 16.3, 14.7]|[1, 1, 0]|  [86, 78, 0]|[06:20 AM, 06:20 ...|[05:33 PM, 05:32 ...|       [14.4, 7.2, 7.9]|\n",
            "|           Lavrinhas|       3526605|[2022-05-04, 2022...|  Brazil|  -14.97|    -49.3|[19.8, 17.1, 17.8]|[32.9, 32.9, 34.3]|[25.1, 23.8, 24.4]|[0, 1, 0]|  [0, 80, 66]|[06:27 AM, 06:28 ...|[05:59 PM, 05:58 ...|      [13.7, 13.3, 6.1]|\n",
            "|    Campos do Jordão|       3509700|                null|    null|    null|     null|              null|              null|              null|     null|         null|                null|                null|                   null|\n",
            "|            Cruzeiro|       3513405|                null|    null|    null|     null|              null|              null|              null|     null|         null|                null|                null|                   null|\n",
            "|            Ilhabela|       3520400|[2022-05-04, 2022...|  Brazil|  -23.78|   -45.35|[19.1, 17.5, 20.0]|[24.4, 24.8, 23.1]|[21.7, 21.1, 21.2]|[1, 1, 1]| [82, 87, 89]|[06:24 AM, 06:24 ...|[05:33 PM, 05:33 ...|     [16.2, 20.5, 15.1]|\n",
            "| São José dos Campos|       3549904|                null|    null|    null|     null|              null|              null|              null|     null|         null|                null|                null|                   null|\n",
            "|       Caraguatatuba|       3510500|[2022-05-04, 2022...|  Brazil|  -23.62|   -45.42|[16.6, 14.5, 14.5]|[26.0, 25.6, 23.3]|[20.5, 19.0, 18.8]|[1, 1, 1]| [75, 76, 86]|[06:23 AM, 06:24 ...|[05:33 PM, 05:33 ...|      [12.2, 13.0, 9.4]|\n",
            "|               Potim|       3540754|                null|    null|    null|     null|              null|              null|              null|     null|         null|                null|                null|                   null|\n",
            "|             Bananal|       3504909|[2022-05-04, 2022...|  Brazil|   -3.03|   -68.17|[22.5, 22.5, 22.4]|[31.0, 27.0, 25.1]|[25.3, 23.7, 23.2]|[1, 1, 1]| [93, 90, 87]|[06:30 AM, 06:30 ...|[06:29 PM, 06:29 ...|        [5.4, 5.0, 5.0]|\n",
            "|           Silveiras|       3552007|[2022-05-04, 2022...|  Brazil|  -21.17|    -43.2|[16.6, 17.9, 15.0]|[31.8, 26.3, 25.0]|[22.8, 20.9, 19.6]|[1, 1, 0]|  [84, 89, 0]|[06:10 AM, 06:11 ...|[05:27 PM, 05:26 ...|       [21.2, 9.0, 9.0]|\n",
            "|              Queluz|       3541901|[2022-05-04, 2022...|Portugal|   38.75|    -9.25|[13.1, 13.5, 14.9]|[24.7, 29.5, 28.8]|[18.3, 19.8, 20.8]|[0, 0, 0]|    [0, 0, 0]|[06:36 AM, 06:35 ...|[08:32 PM, 08:33 ...|     [26.3, 17.3, 14.8]|\n",
            "|             Piquete|       3538501|[2022-05-04, 2022...|  Brazil|   -22.6|   -45.18|  [13.2, 8.6, 7.4]|[28.2, 27.0, 24.5]|[18.7, 16.0, 15.1]|[1, 0, 0]|   [87, 0, 0]|[06:21 AM, 06:22 ...|[05:34 PM, 05:33 ...|       [10.1, 8.3, 7.6]|\n",
            "+--------------------+--------------+--------------------+--------+--------+---------+------------------+------------------+------------------+---------+-------------+--------------------+--------------------+-----------------------+\n",
            "only showing top 20 rows\n",
            "\n"
          ]
        }
      ],
      "source": [
        "# Criar DF da Tabela 1\n",
        "# TODO\n",
        "#spark.sql(\"SELECT c.*, wf.* FROM cities as c LEFT JOIN weather_forecast as wf ON c.nome = wf.location.name\").show()\n",
        "spark.sql(\"\\\n",
        "SELECT \\\n",
        "  c.nome as Cidade, \\\n",
        "  c.id as CodigoDaCidade, \\\n",
        "  wf.forecast.forecastday.date as Data, \\\n",
        "  wf.location.region \\ as Regiao\\\n",
        "  wf.location.country as Pais, \\\n",
        "  wf.location.lat as Latitude, \\\n",
        "  wf.location.lon as Longitude, \\\n",
        "  wf.forecast.forecastday.day.mintemp_c as TemperaturaMinima, \\\n",
        "  wf.forecast.forecastday.day.maxtemp_c as TemperaturaMaxima, \\\n",
        "  wf.forecast.forecastday.day.avgtemp_c as TemperaturaMedia, \\\n",
        "  wf.forecast.forecastday.day.daily_will_it_rain as VaiChover, \\\n",
        "  wf.forecast.forecastday.day.daily_chance_of_rain as ChanceDeChuva, \\\n",
        "  wf.forecast.forecastday.astro.sunrise as NascerDoSol, \\\n",
        "  wf.forecast.forecastday.astro.sunset as PorDoSol, \\\n",
        "  wf.forecast.forecastday.day.maxwind_kph as VelocidadeMaximaDoVento \\\n",
        "FROM \\\n",
        "  cities as c \\\n",
        "LEFT JOIN \\\n",
        "  weather_forecast as wf \\\n",
        "ON \\\n",
        "  c.nome = wf.location.name\"\n",
        ").show()"
      ]
    },
    {
      "cell_type": "code",
      "execution_count": null,
      "id": "3bab3315-f50b-4269-8823-ccfda0fefbfe",
      "metadata": {
        "id": "3bab3315-f50b-4269-8823-ccfda0fefbfe"
      },
      "outputs": [],
      "source": [
        "# Criar DF da Tabela 2\n",
        "# TODO"
      ]
    },
    {
      "cell_type": "code",
      "execution_count": null,
      "id": "c1ff378b-4c24-47dc-aba1-742211cd385d",
      "metadata": {
        "id": "c1ff378b-4c24-47dc-aba1-742211cd385d"
      },
      "outputs": [],
      "source": [
        "# Exportar CSVs\n",
        "# TODO"
      ]
    }
  ],
  "metadata": {
    "kernelspec": {
      "display_name": "Python 3 (ipykernel)",
      "language": "python",
      "name": "python3"
    },
    "language_info": {
      "codemirror_mode": {
        "name": "ipython",
        "version": 3
      },
      "file_extension": ".py",
      "mimetype": "text/x-python",
      "name": "python",
      "nbconvert_exporter": "python",
      "pygments_lexer": "ipython3",
      "version": "3.8.10"
    },
    "colab": {
      "name": "spark_test.ipynb",
      "provenance": [],
      "collapsed_sections": []
    }
  },
  "nbformat": 4,
  "nbformat_minor": 5
}