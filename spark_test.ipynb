{
  "cells": [
    {
      "cell_type": "markdown",
      "metadata": {
        "id": "view-in-github",
        "colab_type": "text"
      },
      "source": [
        "<a href=\"https://colab.research.google.com/github/GurgelLucas/weather-cite/blob/main/spark_test.ipynb\" target=\"_parent\"><img src=\"https://colab.research.google.com/assets/colab-badge.svg\" alt=\"Open In Colab\"/></a>"
      ]
    },
    {
      "cell_type": "markdown",
      "id": "580dd39c-f066-4c32-af47-648eb71f5918",
      "metadata": {
        "tags": [],
        "id": "580dd39c-f066-4c32-af47-648eb71f5918"
      },
      "source": [
        "# Desafio: Consumo de Dados para Previsão do Tempo das Cidades do Vale do Paraíba.\n",
        "\n",
        "## Objetivo\n",
        "\n",
        "Avaliar conhecimentos nas linguagens Python e SQL e na engine de processamento Apache Spark.\n",
        "\n",
        "## Descrição\n",
        "\n",
        "Neste desafio, você desenvolverá um notebook que será responsável por extrair dados de previsão do tempo das cidades do Vale do Paraíba, região onde se localiza a Dataside. Para consultar todas as cidades dessa região, utilizaremos a API do IBGE. No caso, basta realizar uma requisição HTTP com o método GET, utilizando a URL abaixo:\n",
        "\n",
        "```\n",
        "https://servicodados.ibge.gov.br/api/v1/localidades/mesorregioes/3513/municipios\n",
        "```\n",
        "\n",
        "Com esses dados, gerar um data frame e a partir dele uma temp view. Ex: \"cities\"\n",
        "\n",
        "Utilizando os nomes das cidades, deverão ser consultados os dados de previsão de tempo para cada cidade. Para realizar essa consulta, poderá ser utilizada qualquer uma das APIs informadas no link abaixo.\n",
        "\n",
        "[Public APIs - Wather](https://github.com/public-apis/public-apis#weather)\n",
        "\n",
        "Obs.: Para algumas, pode ser necessário cadastrar-se para acessar sua API Key. Mas nenhuma delas deve precisar cadastrar cartão de crédito ou adicionar qualquer valor monetário para utilizar. Caso alguma solicite, basta optar por outra.\n",
        "\n",
        "Com os dados consultados, gerar um data frame e partir dele outra temp view. Ex: \"forecasts\"\n",
        "\n",
        "Com as temp views geradas, utilizar Spark SQL para criar queries e gerar data frames das seguintes tabelas:\n",
        "\n",
        "- Tabela 1: dados de previsão do tempo para os próximos cinco dias, para cada data e cidade consultadas. As colunas dessa tabela serão:\n",
        "    - Cidade\n",
        "    - CodigoDaCidade\n",
        "    - Data\n",
        "    - Regiao\n",
        "    - Pais\n",
        "    - Latitude\n",
        "    - Longigute\n",
        "    - TemperaturaMaxima\n",
        "    - TemperaturaMinima\n",
        "    - TemperaturaMedia\n",
        "    - VaiChover\n",
        "    - ChanceDeChuva\n",
        "    - CondicaoDoTempo\n",
        "    - NascerDoSol\n",
        "    - PorDoSol\n",
        "    - VelocidadeMaximaDoVento\n",
        "    \n",
        "    Obs.: Os valores da coluna \"VaiChover\" deverá ser \"Sim\" ou \"Não\". E a coluna \"CodigoDaCidade\" é o ID retornado junto com os nomes da cidades na API do IBGE.\n",
        "    Obs.: Dependendo da API utilizada, algumas colunas podem não existir e ficarão em branco. Você deve optar por uma API que traga o maior número de informações possível.\n",
        "\n",
        "- Tabela 2: quantidade de dias com chuva e sem chuva para os dias consultados, para cada data consultada. Colunas:\n",
        "    - Cidade\n",
        "    - QtdDiasVaiChover\n",
        "    - QtdDiasNaoVaiChover\n",
        "    - TotalDiasMapeados\n",
        "\n",
        "Essas tabelas deverão ser exportadas em formado CSV e entregue no final do desafio.\n",
        "\n",
        "## To Do\n",
        "\n",
        "[ ] - Consultar municípios do Vale do Paraíba, gerar um data frame e criar uma temp view com esses dados.\n",
        "[ ] - Consultar dados do tempo para cada município, gerar um data frame e criar uma outra temp view.\n",
        "[ ] - Utilizar Spark SQL para gerar os data frames das Tabelas 1 e 2.\n",
        "[ ] - Exportar os data frames para CSV.\n",
        "\n",
        "## Atenção\n",
        "\n",
        "- Existe um limite de requisições de 10000 requests por conta cadastrada na m3o.\n",
        "- Essa API pode retornar cidades de outras regiões que possuem nome semelhante a alguma cidade do Vale do Paraiba. Pode mantê-las ou filtrar para gerar as tabelas apenas com dados de Regiao = Sao Paulo. Fica a seu critério.\n",
        "\n",
        "## Entregando o desafio\n",
        "\n",
        "Concluindo todos os passos informados em To Do, basta salvar o arquivo .ipynb do notebook e enviar para a Dataside juntamente com os CSVs das duas tabelas.\n"
      ]
    },
    {
      "cell_type": "code",
      "source": [
        "# instalar o JAVA\n",
        "!apt-get install openjdk-8-jdk-headless -qq > /dev/null"
      ],
      "metadata": {
        "id": "3FeBVD2MCKUr"
      },
      "id": "3FeBVD2MCKUr",
      "execution_count": 2,
      "outputs": []
    },
    {
      "cell_type": "code",
      "source": [
        "# Baixar a versão mais recente do Spark\n",
        "!wget -q https://downloads.apache.org/spark/spark-3.1.2/spark-3.1.2-bin-hadoop2.7.tgz"
      ],
      "metadata": {
        "id": "AGRLK6PDCN1k"
      },
      "id": "AGRLK6PDCN1k",
      "execution_count": 3,
      "outputs": []
    },
    {
      "cell_type": "code",
      "source": [
        "# Deszipar o spark\n",
        "!tar xf /content/spark-3.1.2-bin-hadoop2.7.tgz\n",
        "!rm spark-3.1.2-bin-hadoop2.7.tgz"
      ],
      "metadata": {
        "id": "JNPdjZ3CCTFq"
      },
      "id": "JNPdjZ3CCTFq",
      "execution_count": 4,
      "outputs": []
    },
    {
      "cell_type": "code",
      "source": [
        "# Declarando as variáveis de ambiente\n",
        "import os\n",
        "os.environ[\"JAVA_HOME\"] = \"/usr/lib/jvm/java-8-openjdk-amd64\"\n",
        "os.environ[\"SPARK_HOME\"] = \"/content/spark-3.1.2-bin-hadoop2.7\""
      ],
      "metadata": {
        "id": "ncnVqaCYBLvy"
      },
      "id": "ncnVqaCYBLvy",
      "execution_count": 5,
      "outputs": []
    },
    {
      "cell_type": "code",
      "source": [
        "# Instalar a lib que ajuda e a encontrar o Spark no sistema e importá-lo como uma biblioteca regular\n",
        "!pip install -q findspark unidecode"
      ],
      "metadata": {
        "colab": {
          "base_uri": "https://localhost:8080/"
        },
        "id": "lrdQv3_qAl8K",
        "outputId": "22b76682-f952-474c-ed13-60d9e212697e"
      },
      "id": "lrdQv3_qAl8K",
      "execution_count": 6,
      "outputs": [
        {
          "output_type": "stream",
          "name": "stdout",
          "text": [
            "\u001b[?25l\r\u001b[K     |█▍                              | 10 kB 15.6 MB/s eta 0:00:01\r\u001b[K     |██▉                             | 20 kB 19.5 MB/s eta 0:00:01\r\u001b[K     |████▏                           | 30 kB 24.0 MB/s eta 0:00:01\r\u001b[K     |█████▋                          | 40 kB 15.7 MB/s eta 0:00:01\r\u001b[K     |███████                         | 51 kB 10.9 MB/s eta 0:00:01\r\u001b[K     |████████▍                       | 61 kB 12.3 MB/s eta 0:00:01\r\u001b[K     |█████████▊                      | 71 kB 12.9 MB/s eta 0:00:01\r\u001b[K     |███████████▏                    | 81 kB 13.6 MB/s eta 0:00:01\r\u001b[K     |████████████▌                   | 92 kB 14.8 MB/s eta 0:00:01\r\u001b[K     |██████████████                  | 102 kB 13.9 MB/s eta 0:00:01\r\u001b[K     |███████████████▎                | 112 kB 13.9 MB/s eta 0:00:01\r\u001b[K     |████████████████▊               | 122 kB 13.9 MB/s eta 0:00:01\r\u001b[K     |██████████████████              | 133 kB 13.9 MB/s eta 0:00:01\r\u001b[K     |███████████████████▌            | 143 kB 13.9 MB/s eta 0:00:01\r\u001b[K     |████████████████████▉           | 153 kB 13.9 MB/s eta 0:00:01\r\u001b[K     |██████████████████████▎         | 163 kB 13.9 MB/s eta 0:00:01\r\u001b[K     |███████████████████████▋        | 174 kB 13.9 MB/s eta 0:00:01\r\u001b[K     |█████████████████████████       | 184 kB 13.9 MB/s eta 0:00:01\r\u001b[K     |██████████████████████████▍     | 194 kB 13.9 MB/s eta 0:00:01\r\u001b[K     |███████████████████████████▉    | 204 kB 13.9 MB/s eta 0:00:01\r\u001b[K     |█████████████████████████████▏  | 215 kB 13.9 MB/s eta 0:00:01\r\u001b[K     |██████████████████████████████▋ | 225 kB 13.9 MB/s eta 0:00:01\r\u001b[K     |████████████████████████████████| 235 kB 13.9 MB/s eta 0:00:01\r\u001b[K     |████████████████████████████████| 235 kB 13.9 MB/s \n",
            "\u001b[?25h"
          ]
        }
      ]
    },
    {
      "cell_type": "code",
      "execution_count": 8,
      "id": "a1cb6c40-3073-43b0-b7f4-95e7c9dd8245",
      "metadata": {
        "tags": [],
        "id": "a1cb6c40-3073-43b0-b7f4-95e7c9dd8245"
      },
      "outputs": [],
      "source": [
        "import findspark\n",
        "findspark.init()\n",
        "\n",
        "import urllib.parse\n",
        "import requests\n",
        "import json\n",
        "import unidecode\n",
        "from pyspark.sql import SparkSession\n",
        "from pyspark.sql.types import *\n",
        "from pyspark.sql.functions import from_json, col, explode_outer\n",
        "\n",
        "spark = SparkSession.builder \\\n",
        "      .master(\"local[1]\") \\\n",
        "      .appName(\"SparkByExamples.com\") \\\n",
        "      .getOrCreate()"
      ]
    },
    {
      "cell_type": "code",
      "execution_count": 21,
      "id": "cdc739f4-2ebf-4ff2-91ff-89689510e618",
      "metadata": {
        "tags": [],
        "id": "cdc739f4-2ebf-4ff2-91ff-89689510e618",
        "colab": {
          "base_uri": "https://localhost:8080/"
        },
        "outputId": "5ec45a66-8ea9-4bfa-e3b1-d80521b69d24"
      },
      "outputs": [
        {
          "output_type": "stream",
          "name": "stdout",
          "text": [
            "root\n",
            " |-- id: string (nullable = true)\n",
            " |-- microrregiao: struct (nullable = true)\n",
            " |    |-- id: long (nullable = true)\n",
            " |    |-- mesorregiao: struct (nullable = true)\n",
            " |    |    |-- UF: struct (nullable = true)\n",
            " |    |    |    |-- id: long (nullable = true)\n",
            " |    |    |    |-- nome: string (nullable = true)\n",
            " |    |    |    |-- regiao: struct (nullable = true)\n",
            " |    |    |    |    |-- id: long (nullable = true)\n",
            " |    |    |    |    |-- nome: string (nullable = true)\n",
            " |    |    |    |    |-- sigla: string (nullable = true)\n",
            " |    |    |    |-- sigla: string (nullable = true)\n",
            " |    |    |-- id: long (nullable = true)\n",
            " |    |    |-- nome: string (nullable = true)\n",
            " |    |-- nome: string (nullable = true)\n",
            " |-- nome: string (nullable = true)\n",
            " |-- regiao-imediata: struct (nullable = true)\n",
            " |    |-- id: long (nullable = true)\n",
            " |    |-- nome: string (nullable = true)\n",
            " |    |-- regiao-intermediaria: struct (nullable = true)\n",
            " |    |    |-- UF: struct (nullable = true)\n",
            " |    |    |    |-- id: long (nullable = true)\n",
            " |    |    |    |-- nome: string (nullable = true)\n",
            " |    |    |    |-- regiao: struct (nullable = true)\n",
            " |    |    |    |    |-- id: long (nullable = true)\n",
            " |    |    |    |    |-- nome: string (nullable = true)\n",
            " |    |    |    |    |-- sigla: string (nullable = true)\n",
            " |    |    |    |-- sigla: string (nullable = true)\n",
            " |    |    |-- id: long (nullable = true)\n",
            " |    |    |-- nome: string (nullable = true)\n",
            "\n"
          ]
        }
      ],
      "source": [
        "# Buscar cidades do Vale do Paraíba\n",
        "# TODO\n",
        "\n",
        "req = requests.get(\"https://servicodados.ibge.gov.br/api/v1/localidades/mesorregioes/3513/municipios\")\n",
        "data = req.json()\n",
        "\n",
        "# Criar data frame com as cidades\n",
        "# TODO\n",
        "\n",
        "cities = spark.read.json(spark.sparkContext.parallelize([data]))\n",
        "cities.printSchema()\n",
        "\n",
        "# Flatten Data Cities \n",
        "df2 = cities.select(\\\n",
        "                    col(\"id\"), \\\n",
        "                    col(\"microrregiao.id\"), \\\n",
        "                    col(\"microrregiao.nome\"), \\\n",
        "                    col(\"microrregiao.mesorregiao.id\"), \\\n",
        "                    col(\"microrregiao.mesorregiao.nome\"), \\\n",
        "                    col(\"microrregiao.mesorregiao.UF.id\"), \\\n",
        "                    col(\"microrregiao.mesorregiao.UF.nome\"), \\\n",
        "                    col(\"microrregiao.mesorregiao.UF.regiao.id\"), \\\n",
        "                    col(\"microrregiao.mesorregiao.UF.regiao.nome\"), \\\n",
        "                    col(\"microrregiao.mesorregiao.UF.regiao.sigla\"), \\\n",
        "                    col(\"nome\"), \\\n",
        "                    col(\"regiao-imediata.id\"), \\\n",
        "                    col(\"regiao-imediata.nome\"), \\\n",
        "                    col(\"regiao-imediata.regiao-intermediaria.id\"), \\\n",
        "                    col(\"regiao-imediata.regiao-intermediaria.nome\"), \\\n",
        "                  )\n",
        "cities = df2.toDF(\\\n",
        "                      \"id\", \\\n",
        "                      \"microregiao_id\", \\\n",
        "                      \"microregiao_nome\", \\\n",
        "                      \"mesorregiao_id\", \\\n",
        "                      \"mesorregiao_nome\", \\\n",
        "                      \"UF_id\", \\\n",
        "                      \"UF_nome\", \\\n",
        "                      \"regiao_id\", \\\n",
        "                      \"regiao_nome\", \\\n",
        "                      \"regiao_sigla\", \\\n",
        "                      \"nome\", \\\n",
        "                      \"regiao-imediata_id\", \\\n",
        "                      \"regiao-imediata_nome\", \\\n",
        "                      \"regiao-intermediaria_id\", \\\n",
        "                      \"regiao-intermediaria_nome\", \\\n",
        "                    )\n",
        "\n",
        "# Criar view com as cidades\n",
        "# TODO\n",
        "vw_cities = cities.createOrReplaceTempView(\"cities\")\n",
        "#spark.sql(\"SELECT microrregiao FROM cities\").show()"
      ]
    },
    {
      "cell_type": "code",
      "execution_count": 65,
      "id": "c4a40a6f-d5f1-4524-9d0b-d1e6e24dfbfa",
      "metadata": {
        "tags": [],
        "id": "c4a40a6f-d5f1-4524-9d0b-d1e6e24dfbfa",
        "colab": {
          "base_uri": "https://localhost:8080/"
        },
        "outputId": "7c4cd984-15e1-428e-e47d-fd475b4dbb86"
      },
      "outputs": [
        {
          "output_type": "stream",
          "name": "stdout",
          "text": [
            "root\n",
            " |-- current: struct (nullable = true)\n",
            " |    |-- cloud: long (nullable = true)\n",
            " |    |-- condition: struct (nullable = true)\n",
            " |    |    |-- code: long (nullable = true)\n",
            " |    |    |-- icon: string (nullable = true)\n",
            " |    |    |-- text: string (nullable = true)\n",
            " |    |-- feelslike_c: double (nullable = true)\n",
            " |    |-- feelslike_f: double (nullable = true)\n",
            " |    |-- gust_kph: double (nullable = true)\n",
            " |    |-- gust_mph: double (nullable = true)\n",
            " |    |-- humidity: long (nullable = true)\n",
            " |    |-- is_day: long (nullable = true)\n",
            " |    |-- last_updated: string (nullable = true)\n",
            " |    |-- last_updated_epoch: long (nullable = true)\n",
            " |    |-- precip_in: double (nullable = true)\n",
            " |    |-- precip_mm: double (nullable = true)\n",
            " |    |-- pressure_in: double (nullable = true)\n",
            " |    |-- pressure_mb: double (nullable = true)\n",
            " |    |-- temp_c: double (nullable = true)\n",
            " |    |-- temp_f: double (nullable = true)\n",
            " |    |-- uv: double (nullable = true)\n",
            " |    |-- vis_km: double (nullable = true)\n",
            " |    |-- vis_miles: double (nullable = true)\n",
            " |    |-- wind_degree: long (nullable = true)\n",
            " |    |-- wind_dir: string (nullable = true)\n",
            " |    |-- wind_kph: double (nullable = true)\n",
            " |    |-- wind_mph: double (nullable = true)\n",
            " |-- error: struct (nullable = true)\n",
            " |    |-- code: long (nullable = true)\n",
            " |    |-- message: string (nullable = true)\n",
            " |-- forecast: struct (nullable = true)\n",
            " |    |-- forecastday: array (nullable = true)\n",
            " |    |    |-- element: struct (containsNull = true)\n",
            " |    |    |    |-- astro: struct (nullable = true)\n",
            " |    |    |    |    |-- moon_illumination: string (nullable = true)\n",
            " |    |    |    |    |-- moon_phase: string (nullable = true)\n",
            " |    |    |    |    |-- moonrise: string (nullable = true)\n",
            " |    |    |    |    |-- moonset: string (nullable = true)\n",
            " |    |    |    |    |-- sunrise: string (nullable = true)\n",
            " |    |    |    |    |-- sunset: string (nullable = true)\n",
            " |    |    |    |-- date: string (nullable = true)\n",
            " |    |    |    |-- date_epoch: long (nullable = true)\n",
            " |    |    |    |-- day: struct (nullable = true)\n",
            " |    |    |    |    |-- avghumidity: double (nullable = true)\n",
            " |    |    |    |    |-- avgtemp_c: double (nullable = true)\n",
            " |    |    |    |    |-- avgtemp_f: double (nullable = true)\n",
            " |    |    |    |    |-- avgvis_km: double (nullable = true)\n",
            " |    |    |    |    |-- avgvis_miles: double (nullable = true)\n",
            " |    |    |    |    |-- condition: struct (nullable = true)\n",
            " |    |    |    |    |    |-- code: long (nullable = true)\n",
            " |    |    |    |    |    |-- icon: string (nullable = true)\n",
            " |    |    |    |    |    |-- text: string (nullable = true)\n",
            " |    |    |    |    |-- daily_chance_of_rain: long (nullable = true)\n",
            " |    |    |    |    |-- daily_chance_of_snow: long (nullable = true)\n",
            " |    |    |    |    |-- daily_will_it_rain: long (nullable = true)\n",
            " |    |    |    |    |-- daily_will_it_snow: long (nullable = true)\n",
            " |    |    |    |    |-- maxtemp_c: double (nullable = true)\n",
            " |    |    |    |    |-- maxtemp_f: double (nullable = true)\n",
            " |    |    |    |    |-- maxwind_kph: double (nullable = true)\n",
            " |    |    |    |    |-- maxwind_mph: double (nullable = true)\n",
            " |    |    |    |    |-- mintemp_c: double (nullable = true)\n",
            " |    |    |    |    |-- mintemp_f: double (nullable = true)\n",
            " |    |    |    |    |-- totalprecip_in: double (nullable = true)\n",
            " |    |    |    |    |-- totalprecip_mm: double (nullable = true)\n",
            " |    |    |    |    |-- uv: double (nullable = true)\n",
            " |    |    |    |-- hour: array (nullable = true)\n",
            " |    |    |    |    |-- element: struct (containsNull = true)\n",
            " |    |    |    |    |    |-- chance_of_rain: long (nullable = true)\n",
            " |    |    |    |    |    |-- chance_of_snow: long (nullable = true)\n",
            " |    |    |    |    |    |-- cloud: long (nullable = true)\n",
            " |    |    |    |    |    |-- condition: struct (nullable = true)\n",
            " |    |    |    |    |    |    |-- code: long (nullable = true)\n",
            " |    |    |    |    |    |    |-- icon: string (nullable = true)\n",
            " |    |    |    |    |    |    |-- text: string (nullable = true)\n",
            " |    |    |    |    |    |-- dewpoint_c: double (nullable = true)\n",
            " |    |    |    |    |    |-- dewpoint_f: double (nullable = true)\n",
            " |    |    |    |    |    |-- feelslike_c: double (nullable = true)\n",
            " |    |    |    |    |    |-- feelslike_f: double (nullable = true)\n",
            " |    |    |    |    |    |-- gust_kph: double (nullable = true)\n",
            " |    |    |    |    |    |-- gust_mph: double (nullable = true)\n",
            " |    |    |    |    |    |-- heatindex_c: double (nullable = true)\n",
            " |    |    |    |    |    |-- heatindex_f: double (nullable = true)\n",
            " |    |    |    |    |    |-- humidity: long (nullable = true)\n",
            " |    |    |    |    |    |-- is_day: long (nullable = true)\n",
            " |    |    |    |    |    |-- precip_in: double (nullable = true)\n",
            " |    |    |    |    |    |-- precip_mm: double (nullable = true)\n",
            " |    |    |    |    |    |-- pressure_in: double (nullable = true)\n",
            " |    |    |    |    |    |-- pressure_mb: double (nullable = true)\n",
            " |    |    |    |    |    |-- temp_c: double (nullable = true)\n",
            " |    |    |    |    |    |-- temp_f: double (nullable = true)\n",
            " |    |    |    |    |    |-- time: string (nullable = true)\n",
            " |    |    |    |    |    |-- time_epoch: long (nullable = true)\n",
            " |    |    |    |    |    |-- uv: double (nullable = true)\n",
            " |    |    |    |    |    |-- vis_km: double (nullable = true)\n",
            " |    |    |    |    |    |-- vis_miles: double (nullable = true)\n",
            " |    |    |    |    |    |-- will_it_rain: long (nullable = true)\n",
            " |    |    |    |    |    |-- will_it_snow: long (nullable = true)\n",
            " |    |    |    |    |    |-- wind_degree: long (nullable = true)\n",
            " |    |    |    |    |    |-- wind_dir: string (nullable = true)\n",
            " |    |    |    |    |    |-- wind_kph: double (nullable = true)\n",
            " |    |    |    |    |    |-- wind_mph: double (nullable = true)\n",
            " |    |    |    |    |    |-- windchill_c: double (nullable = true)\n",
            " |    |    |    |    |    |-- windchill_f: double (nullable = true)\n",
            " |-- location: struct (nullable = true)\n",
            " |    |-- country: string (nullable = true)\n",
            " |    |-- lat: double (nullable = true)\n",
            " |    |-- localtime: string (nullable = true)\n",
            " |    |-- localtime_epoch: long (nullable = true)\n",
            " |    |-- lon: double (nullable = true)\n",
            " |    |-- name: string (nullable = true)\n",
            " |    |-- region: string (nullable = true)\n",
            " |    |-- tz_id: string (nullable = true)\n",
            "\n"
          ]
        }
      ],
      "source": [
        "# Buscar previsão do tempo para as cidades\n",
        "# TODO\n",
        "\n",
        "data = []\n",
        "for city in cities.collect():\n",
        "  cidade = urllib.parse.quote(city.nome)\n",
        "  req = requests.get(f\"http://api.weatherapi.com/v1/forecast.json?key=49e9a2605cc34c618b172338220405&q={cidade}&days=5&aqi=no&alerts=no\")\n",
        "  res = req.json()\n",
        "  data.append(res)\n",
        "\n",
        "# Criar data frame com as previsões\n",
        "# TODO\n",
        "weather_forecast = spark.read.json(spark.sparkContext.parallelize(data))\n",
        "weather_forecast = weather_forecast.filter(weather_forecast.location.region == \"Sao Paulo\")\n",
        "weather_forecast.printSchema()\n",
        "\n",
        "# Criar view com as previsões\n",
        "# TODO\n",
        "vw_weather_forecast = weather_forecast.createOrReplaceTempView(\"weather_forecast\")"
      ]
    },
    {
      "cell_type": "code",
      "execution_count": 73,
      "id": "bbc2a925-c707-46f0-a2e2-e0e0164a7312",
      "metadata": {
        "id": "bbc2a925-c707-46f0-a2e2-e0e0164a7312",
        "colab": {
          "base_uri": "https://localhost:8080/"
        },
        "outputId": "00e19183-2d7d-4a00-d64c-38a608a25076"
      },
      "outputs": [
        {
          "output_type": "stream",
          "name": "stdout",
          "text": [
            "+--------------------+--------------+--------------------+-------+------+--------+---------+------------------+------------------+------------------+---------+-------------+--------------------+--------------------+-----------------------+\n",
            "|              Cidade|CodigoDaCidade|                Data| Regiao|  Pais|Latitude|Longitude| TemperaturaMinima| TemperaturaMaxima|  TemperaturaMedia|VaiChover|ChanceDeChuva|         NascerDoSol|            PorDoSol|VelocidadeMaximaDoVento|\n",
            "+--------------------+--------------+--------------------+-------+------+--------+---------+------------------+------------------+------------------+---------+-------------+--------------------+--------------------+-----------------------+\n",
            "|São Bento do Sapucaí|       3548609|                null|Sudeste|  null|    null|     null|              null|              null|              null|     null|         null|                null|                null|                   null|\n",
            "|           Paraibuna|       3535606|[2022-05-04, 2022...|Sudeste|Brazil|  -23.38|   -45.65|[16.1, 11.0, 13.8]|[23.7, 24.3, 22.7]|[18.9, 16.8, 17.3]|[1, 0, 0]|  [87, 0, 68]|[06:25 AM, 06:25 ...|[05:36 PM, 05:35 ...|     [17.6, 15.5, 14.8]|\n",
            "|São Luiz do Parai...|       3550001|                null|Sudeste|  null|    null|     null|              null|              null|              null|     null|         null|                null|                null|                   null|\n",
            "|           Aparecida|       3502507|[2022-05-04, 2022...|Sudeste|Brazil|  -22.83|   -45.23|  [13.8, 8.8, 8.8]|[28.1, 25.4, 24.3]|[19.9, 15.8, 15.5]|[1, 0, 0]|   [89, 0, 0]|[06:21 AM, 06:22 ...|[05:34 PM, 05:33 ...|        [8.6, 6.5, 7.9]|\n",
            "|             Igaratá|       3520202|                null|Sudeste|  null|    null|     null|              null|              null|              null|     null|         null|                null|                null|                   null|\n",
            "|              Arapeí|       3503158|[2022-05-04, 2022...|Sudeste|Brasil|  -22.68|   -44.45|[17.4, 15.6, 13.4]|[29.6, 29.3, 24.2]|[22.5, 21.0, 18.3]|[1, 1, 1]| [83, 76, 88]|[06:18 AM, 06:18 ...|[05:31 PM, 05:31 ...|       [6.8, 6.1, 10.4]|\n",
            "|        Santa Branca|       3546009|[2022-05-04, 2022...|Sudeste|Brazil|   -23.4|   -45.88|[15.2, 11.8, 14.0]|[22.7, 22.7, 22.0]|[18.1, 16.3, 17.0]|[0, 0, 1]|   [0, 0, 82]|[06:25 AM, 06:26 ...|[05:36 PM, 05:35 ...|     [19.4, 15.8, 16.2]|\n",
            "|     Pindamonhangaba|       3538006|[2022-05-04, 2022...|Sudeste|Brazil|  -22.92|   -45.47|  [13.4, 9.4, 8.7]|[26.2, 24.3, 23.5]|[18.1, 15.3, 15.4]|[1, 0, 0]|   [81, 0, 0]|[06:23 AM, 06:23 ...|[05:35 PM, 05:34 ...|       [10.4, 7.2, 9.4]|\n",
            "|  Cachoeira Paulista|       3508603|[2022-05-04, 2022...|Sudeste|Brazil|  -22.67|   -45.02|  [13.8, 9.8, 8.2]|[27.6, 24.5, 24.0]|[18.9, 16.4, 15.0]|[1, 0, 0]|   [88, 0, 0]|[06:20 AM, 06:20 ...|[05:33 PM, 05:32 ...|       [14.4, 6.8, 5.8]|\n",
            "|           Lavrinhas|       3526605|                null|Sudeste|  null|    null|     null|              null|              null|              null|     null|         null|                null|                null|                   null|\n",
            "|    Campos do Jordão|       3509700|                null|Sudeste|  null|    null|     null|              null|              null|              null|     null|         null|                null|                null|                   null|\n",
            "|            Cruzeiro|       3513405|                null|Sudeste|  null|    null|     null|              null|              null|              null|     null|         null|                null|                null|                   null|\n",
            "|            Ilhabela|       3520400|[2022-05-04, 2022...|Sudeste|Brazil|  -23.78|   -45.35|[19.1, 17.8, 19.9]|[25.6, 25.0, 23.1]|[22.2, 21.2, 21.1]|[1, 1, 1]| [89, 82, 84]|[06:24 AM, 06:24 ...|[05:33 PM, 05:33 ...|     [18.0, 22.3, 15.1]|\n",
            "| São José dos Campos|       3549904|                null|Sudeste|  null|    null|     null|              null|              null|              null|     null|         null|                null|                null|                   null|\n",
            "|       Caraguatatuba|       3510500|[2022-05-04, 2022...|Sudeste|Brazil|  -23.62|   -45.42|[16.5, 14.1, 15.3]|[26.3, 25.7, 23.4]|[20.9, 19.0, 18.9]|[1, 0, 1]| [76, 59, 82]|[06:23 AM, 06:24 ...|[05:33 PM, 05:33 ...|      [12.6, 13.0, 9.0]|\n",
            "|               Potim|       3540754|                null|Sudeste|  null|    null|     null|              null|              null|              null|     null|         null|                null|                null|                   null|\n",
            "|             Bananal|       3504909|                null|Sudeste|  null|    null|     null|              null|              null|              null|     null|         null|                null|                null|                   null|\n",
            "|           Silveiras|       3552007|                null|Sudeste|  null|    null|     null|              null|              null|              null|     null|         null|                null|                null|                   null|\n",
            "|              Queluz|       3541901|                null|Sudeste|  null|    null|     null|              null|              null|              null|     null|         null|                null|                null|                   null|\n",
            "|             Piquete|       3538501|[2022-05-04, 2022...|Sudeste|Brazil|   -22.6|   -45.18|  [13.3, 8.9, 8.1]|[28.5, 25.0, 24.6]|[18.8, 15.8, 15.7]|[1, 0, 0]|   [80, 0, 0]|[06:21 AM, 06:22 ...|[05:34 PM, 05:33 ...|        [9.7, 6.1, 8.3]|\n",
            "|       São Sebastião|       3550704|[2022-05-04, 2022...|Sudeste|Brasil|   -23.8|   -45.42|[19.1, 17.8, 19.9]|[25.6, 25.0, 23.1]|[22.2, 21.2, 21.1]|[1, 1, 1]| [89, 82, 84]|[06:24 AM, 06:24 ...|[05:33 PM, 05:33 ...|     [18.0, 22.3, 15.1]|\n",
            "|             Ubatuba|       3555406|[2022-05-04, 2022...|Sudeste|Brazil|  -23.43|   -45.07|[15.5, 12.4, 11.4]|[24.7, 23.7, 20.5]|[18.6, 16.1, 15.1]|[1, 0, 1]|  [86, 0, 87]|[06:21 AM, 06:22 ...|[05:33 PM, 05:32 ...|      [10.8, 8.6, 10.4]|\n",
            "|     Monteiro Lobato|       3531704|[2022-05-04, 2022...|Sudeste|Brazil|  -22.97|   -45.83|[16.3, 10.4, 11.5]|[24.2, 23.9, 22.8]|[19.5, 16.4, 16.6]|[1, 0, 0]|   [83, 0, 0]|[06:24 AM, 06:24 ...|[05:35 PM, 05:35 ...|     [11.2, 10.8, 10.1]|\n",
            "|              Areias|       3503505|                null|Sudeste|  null|    null|     null|              null|              null|              null|     null|         null|                null|                null|                   null|\n",
            "| Natividade da Serra|       3532306|                null|Sudeste|  null|    null|     null|              null|              null|              null|     null|         null|                null|                null|                   null|\n",
            "|São José do Barreiro|       3549607|                null|Sudeste|  null|    null|     null|              null|              null|              null|     null|         null|                null|                null|                   null|\n",
            "|            Caçapava|       3508504|[2022-05-04, 2022...|Sudeste|Brasil|   -23.1|   -45.72|[16.3, 10.4, 11.5]|[24.2, 23.9, 22.8]|[19.5, 16.4, 16.6]|[1, 0, 0]|   [83, 0, 0]|[06:24 AM, 06:24 ...|[05:35 PM, 05:35 ...|     [11.2, 10.8, 10.1]|\n",
            "|       Guaratinguetá|       3518404|                null|Sudeste|  null|    null|     null|              null|              null|              null|     null|         null|                null|                null|                   null|\n",
            "|            Lagoinha|       3526308|                null|Sudeste|  null|    null|     null|              null|              null|              null|     null|         null|                null|                null|                   null|\n",
            "|             Jacareí|       3524402|[2022-05-04, 2022...|Sudeste|Brasil|  -23.32|   -45.97|[15.2, 11.8, 14.0]|[22.7, 22.7, 22.0]|[18.1, 16.3, 17.0]|[0, 0, 1]|   [0, 0, 82]|[06:25 AM, 06:26 ...|[05:36 PM, 05:35 ...|     [19.4, 15.8, 16.2]|\n",
            "|               Cunha|       3513603|[2022-05-04, 2022...|Sudeste|Brazil|  -23.08|   -44.97|[15.5, 12.4, 11.4]|[24.7, 23.7, 20.5]|[18.6, 16.1, 15.1]|[1, 0, 1]|  [86, 0, 87]|[06:21 AM, 06:22 ...|[05:33 PM, 05:32 ...|      [10.8, 8.6, 10.4]|\n",
            "|            Jambeiro|       3524907|                null|Sudeste|  null|    null|     null|              null|              null|              null|     null|         null|                null|                null|                   null|\n",
            "|              Lorena|       3527207|[2022-05-04, 2022...|Sudeste|Brazil|  -22.73|   -45.13|  [13.3, 8.9, 8.1]|[28.5, 25.0, 24.6]|[18.8, 15.8, 15.7]|[1, 0, 0]|   [80, 0, 0]|[06:21 AM, 06:22 ...|[05:34 PM, 05:33 ...|        [9.7, 6.1, 8.3]|\n",
            "|            Tremembé|       3554805|[2022-05-04, 2022...|Sudeste|Brasil|  -22.97|   -45.55|[16.1, 10.3, 12.8]|[25.2, 23.3, 23.5]|[19.3, 16.3, 17.2]|[1, 0, 0]|   [71, 0, 0]|[06:23 AM, 06:23 ...|[05:35 PM, 05:34 ...|      [11.2, 9.4, 11.5]|\n",
            "|               Canas|       3509957|                null|Sudeste|  null|    null|     null|              null|              null|              null|     null|         null|                null|                null|                   null|\n",
            "|             Roseira|       3544301|                null|Sudeste|  null|    null|     null|              null|              null|              null|     null|         null|                null|                null|                   null|\n",
            "|             Taubaté|       3554102|[2022-05-04, 2022...|Sudeste|Brésil|  -23.03|   -45.55|[16.1, 10.3, 12.8]|[25.2, 23.3, 23.5]|[19.3, 16.3, 17.2]|[1, 0, 0]|   [71, 0, 0]|[06:23 AM, 06:23 ...|[05:35 PM, 05:34 ...|      [11.2, 9.4, 11.5]|\n",
            "|   Redenção da Serra|       3542305|                null|Sudeste|  null|    null|     null|              null|              null|              null|     null|         null|                null|                null|                   null|\n",
            "|Santo Antônio do ...|       3548203|                null|Sudeste|  null|    null|     null|              null|              null|              null|     null|         null|                null|                null|                   null|\n",
            "+--------------------+--------------+--------------------+-------+------+--------+---------+------------------+------------------+------------------+---------+-------------+--------------------+--------------------+-----------------------+\n",
            "\n"
          ]
        }
      ],
      "source": [
        "# Criar DF da Tabela 1\n",
        "# TODO\n",
        "#spark.sql(\"SELECT c.*, wf.* FROM cities as c LEFT JOIN weather_forecast as wf ON c.nome = wf.location.name\").show()\n",
        "spark.sql(\"\\\n",
        "SELECT \\\n",
        "  c.nome as Cidade, \\\n",
        "  c.id as CodigoDaCidade, \\\n",
        "  wf.forecast.forecastday.date as Data, \\\n",
        "  c.regiao_nome as Regiao, \\\n",
        "  wf.location.country as Pais, \\\n",
        "  wf.location.lat as Latitude, \\\n",
        "  wf.location.lon as Longitude, \\\n",
        "  wf.forecast.forecastday.day.mintemp_c as TemperaturaMinima, \\\n",
        "  wf.forecast.forecastday.day.maxtemp_c as TemperaturaMaxima, \\\n",
        "  wf.forecast.forecastday.day.avgtemp_c as TemperaturaMedia, \\\n",
        "  wf.forecast.forecastday.day.daily_will_it_rain as VaiChover, \\\n",
        "  wf.forecast.forecastday.day.daily_chance_of_rain as ChanceDeChuva, \\\n",
        "  wf.forecast.forecastday.astro.sunrise as NascerDoSol, \\\n",
        "  wf.forecast.forecastday.astro.sunset as PorDoSol, \\\n",
        "  wf.forecast.forecastday.day.maxwind_kph as VelocidadeMaximaDoVento \\\n",
        "FROM \\\n",
        "  cities as c \\\n",
        "LEFT JOIN \\\n",
        "  weather_forecast as wf \\\n",
        "ON \\\n",
        "  c.nome = wf.location.name\"\n",
        ").show()"
      ]
    },
    {
      "cell_type": "code",
      "execution_count": null,
      "id": "3bab3315-f50b-4269-8823-ccfda0fefbfe",
      "metadata": {
        "id": "3bab3315-f50b-4269-8823-ccfda0fefbfe"
      },
      "outputs": [],
      "source": [
        "# Criar DF da Tabela 2\n",
        "# TODO"
      ]
    },
    {
      "cell_type": "code",
      "execution_count": null,
      "id": "c1ff378b-4c24-47dc-aba1-742211cd385d",
      "metadata": {
        "id": "c1ff378b-4c24-47dc-aba1-742211cd385d"
      },
      "outputs": [],
      "source": [
        "# Exportar CSVs\n",
        "# TODO"
      ]
    }
  ],
  "metadata": {
    "kernelspec": {
      "display_name": "Python 3 (ipykernel)",
      "language": "python",
      "name": "python3"
    },
    "language_info": {
      "codemirror_mode": {
        "name": "ipython",
        "version": 3
      },
      "file_extension": ".py",
      "mimetype": "text/x-python",
      "name": "python",
      "nbconvert_exporter": "python",
      "pygments_lexer": "ipython3",
      "version": "3.8.10"
    },
    "colab": {
      "name": "spark_test.ipynb",
      "provenance": [],
      "collapsed_sections": [],
      "include_colab_link": true
    }
  },
  "nbformat": 4,
  "nbformat_minor": 5
}